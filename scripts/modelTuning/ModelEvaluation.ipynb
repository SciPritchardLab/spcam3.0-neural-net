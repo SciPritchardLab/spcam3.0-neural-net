{
 "cells": [
  {
   "cell_type": "code",
   "execution_count": 1,
   "metadata": {},
   "outputs": [
    {
     "name": "stderr",
     "output_type": "stream",
     "text": [
      "/home/jlin96/miniconda3/envs/GPU/lib/python3.7/site-packages/dask/config.py:168: YAMLLoadWarning: calling yaml.load() without Loader=... is deprecated, as the default Loader is unsafe. Please read https://msg.pyyaml.org/load for full details.\n",
      "  data = yaml.load(f.read()) or {}\n",
      "/home/jlin96/miniconda3/envs/GPU/lib/python3.7/site-packages/tensorflow/python/framework/dtypes.py:516: FutureWarning: Passing (type, 1) or '1type' as a synonym of type is deprecated; in a future version of numpy, it will be understood as (type, (1,)) / '(1,)type'.\n",
      "  _np_qint8 = np.dtype([(\"qint8\", np.int8, 1)])\n",
      "/home/jlin96/miniconda3/envs/GPU/lib/python3.7/site-packages/tensorflow/python/framework/dtypes.py:517: FutureWarning: Passing (type, 1) or '1type' as a synonym of type is deprecated; in a future version of numpy, it will be understood as (type, (1,)) / '(1,)type'.\n",
      "  _np_quint8 = np.dtype([(\"quint8\", np.uint8, 1)])\n",
      "/home/jlin96/miniconda3/envs/GPU/lib/python3.7/site-packages/tensorflow/python/framework/dtypes.py:518: FutureWarning: Passing (type, 1) or '1type' as a synonym of type is deprecated; in a future version of numpy, it will be understood as (type, (1,)) / '(1,)type'.\n",
      "  _np_qint16 = np.dtype([(\"qint16\", np.int16, 1)])\n",
      "/home/jlin96/miniconda3/envs/GPU/lib/python3.7/site-packages/tensorflow/python/framework/dtypes.py:519: FutureWarning: Passing (type, 1) or '1type' as a synonym of type is deprecated; in a future version of numpy, it will be understood as (type, (1,)) / '(1,)type'.\n",
      "  _np_quint16 = np.dtype([(\"quint16\", np.uint16, 1)])\n",
      "/home/jlin96/miniconda3/envs/GPU/lib/python3.7/site-packages/tensorflow/python/framework/dtypes.py:520: FutureWarning: Passing (type, 1) or '1type' as a synonym of type is deprecated; in a future version of numpy, it will be understood as (type, (1,)) / '(1,)type'.\n",
      "  _np_qint32 = np.dtype([(\"qint32\", np.int32, 1)])\n",
      "/home/jlin96/miniconda3/envs/GPU/lib/python3.7/site-packages/tensorflow/python/framework/dtypes.py:525: FutureWarning: Passing (type, 1) or '1type' as a synonym of type is deprecated; in a future version of numpy, it will be understood as (type, (1,)) / '(1,)type'.\n",
      "  np_resource = np.dtype([(\"resource\", np.ubyte, 1)])\n",
      "/home/jlin96/miniconda3/envs/GPU/lib/python3.7/site-packages/tensorboard/compat/tensorflow_stub/dtypes.py:541: FutureWarning: Passing (type, 1) or '1type' as a synonym of type is deprecated; in a future version of numpy, it will be understood as (type, (1,)) / '(1,)type'.\n",
      "  _np_qint8 = np.dtype([(\"qint8\", np.int8, 1)])\n",
      "/home/jlin96/miniconda3/envs/GPU/lib/python3.7/site-packages/tensorboard/compat/tensorflow_stub/dtypes.py:542: FutureWarning: Passing (type, 1) or '1type' as a synonym of type is deprecated; in a future version of numpy, it will be understood as (type, (1,)) / '(1,)type'.\n",
      "  _np_quint8 = np.dtype([(\"quint8\", np.uint8, 1)])\n",
      "/home/jlin96/miniconda3/envs/GPU/lib/python3.7/site-packages/tensorboard/compat/tensorflow_stub/dtypes.py:543: FutureWarning: Passing (type, 1) or '1type' as a synonym of type is deprecated; in a future version of numpy, it will be understood as (type, (1,)) / '(1,)type'.\n",
      "  _np_qint16 = np.dtype([(\"qint16\", np.int16, 1)])\n",
      "/home/jlin96/miniconda3/envs/GPU/lib/python3.7/site-packages/tensorboard/compat/tensorflow_stub/dtypes.py:544: FutureWarning: Passing (type, 1) or '1type' as a synonym of type is deprecated; in a future version of numpy, it will be understood as (type, (1,)) / '(1,)type'.\n",
      "  _np_quint16 = np.dtype([(\"quint16\", np.uint16, 1)])\n",
      "/home/jlin96/miniconda3/envs/GPU/lib/python3.7/site-packages/tensorboard/compat/tensorflow_stub/dtypes.py:545: FutureWarning: Passing (type, 1) or '1type' as a synonym of type is deprecated; in a future version of numpy, it will be understood as (type, (1,)) / '(1,)type'.\n",
      "  _np_qint32 = np.dtype([(\"qint32\", np.int32, 1)])\n",
      "/home/jlin96/miniconda3/envs/GPU/lib/python3.7/site-packages/tensorboard/compat/tensorflow_stub/dtypes.py:550: FutureWarning: Passing (type, 1) or '1type' as a synonym of type is deprecated; in a future version of numpy, it will be understood as (type, (1,)) / '(1,)type'.\n",
      "  np_resource = np.dtype([(\"resource\", np.ubyte, 1)])\n",
      "Using TensorFlow backend.\n"
     ]
    }
   ],
   "source": [
    "import xarray as xr\n",
    "import numpy as np\n",
    "import pandas as pd\n",
    "from tensorflow import keras\n",
    "from keras.models import Sequential\n",
    "from keras.layers import Dense\n",
    "from keras.optimizers import SGD\n",
    "import matplotlib.pyplot as plt\n",
    "import os\n",
    "import h5py"
   ]
  },
  {
   "cell_type": "code",
   "execution_count": 2,
   "metadata": {},
   "outputs": [
    {
     "name": "stderr",
     "output_type": "stream",
     "text": [
      "WARNING: Logging before flag parsing goes to stderr.\n",
      "W0830 21:27:09.833616 23456247883584 deprecation.py:506] From /home/jlin96/miniconda3/envs/GPU/lib/python3.7/site-packages/tensorflow/python/keras/initializers.py:143: calling RandomNormal.__init__ (from tensorflow.python.ops.init_ops) with dtype is deprecated and will be removed in a future version.\n",
      "Instructions for updating:\n",
      "Call initializer instance with the dtype argument instead of passing it to the constructor\n"
     ]
    }
   ],
   "source": [
    "model = keras.models.load_model('/home/jlin96/repos/spcam3.0-neural-net/scripts/modelTuning/revisedtest.h5')"
   ]
  },
  {
   "cell_type": "code",
   "execution_count": 8,
   "metadata": {},
   "outputs": [],
   "source": [
    "jobNum = 5558221\n",
    "path = '/scratch/jlin96/job_' + str(jobNum) + '/'\n",
    "\n",
    "with open(path + 'trainInput.npy', 'rb') as f:\n",
    "    trainInput = np.load(f)\n",
    "    \n",
    "with open(path + 'trainOutput.npy', 'rb') as f:\n",
    "    trainOutput = np.load(f)\n",
    "    \n",
    "with open(path + 'testInput.npy', 'rb') as f:\n",
    "    testInput = np.load(f)\n",
    "\n",
    "with open(path + 'testOutput.npy', 'rb') as f:\n",
    "    testOutput = np.load(f)"
   ]
  },
  {
   "cell_type": "code",
   "execution_count": 9,
   "metadata": {},
   "outputs": [
    {
     "name": "stdout",
     "output_type": "stream",
     "text": [
      "1000/1000 [==============================] - 0s 295us/sample - loss: 0.0051\n"
     ]
    },
    {
     "data": {
      "text/plain": [
       "0.005079622559249401"
      ]
     },
     "execution_count": 9,
     "metadata": {},
     "output_type": "execute_result"
    }
   ],
   "source": [
    "model.evaluate(trainInput[0:1000], trainOutput[0:1000])"
   ]
  },
  {
   "cell_type": "code",
   "execution_count": 10,
   "metadata": {},
   "outputs": [
    {
     "name": "stdout",
     "output_type": "stream",
     "text": [
      "Evaluate on test data\n",
      "1000/1000 [==============================] - 0s 8us/sample - loss: 0.0051\n",
      "test loss, test acc: 0.005079622555524111\n"
     ]
    }
   ],
   "source": [
    "print(\"Evaluate on test data\")\n",
    "results = model.evaluate(trainInput[0:1000], trainOutput[0:1000], batch_size=128)\n",
    "print(\"test loss, test acc:\", results)"
   ]
  },
  {
   "cell_type": "code",
   "execution_count": 11,
   "metadata": {},
   "outputs": [
    {
     "data": {
      "text/plain": [
       "(6357811, 155)"
      ]
     },
     "execution_count": 11,
     "metadata": {},
     "output_type": "execute_result"
    }
   ],
   "source": [
    "trainInput.shape"
   ]
  },
  {
   "cell_type": "code",
   "execution_count": 12,
   "metadata": {},
   "outputs": [
    {
     "data": {
      "text/plain": [
       "(155,)"
      ]
     },
     "execution_count": 12,
     "metadata": {},
     "output_type": "execute_result"
    }
   ],
   "source": [
    "trainInput[0].shape"
   ]
  },
  {
   "cell_type": "code",
   "execution_count": 33,
   "metadata": {},
   "outputs": [],
   "source": [
    "trainPredicted = model.predict(np.array([trainInput[0]]))\n",
    "trainInitial = np.array([trainInput[0]])\n",
    "trainActual = np.array([trainInput[0]])\n",
    "\n",
    "#trainInput = np.array([trainInput[0]])"
   ]
  },
  {
   "cell_type": "code",
   "execution_count": 34,
   "metadata": {},
   "outputs": [
    {
     "data": {
      "text/plain": [
       "(1, 155)"
      ]
     },
     "execution_count": 34,
     "metadata": {},
     "output_type": "execute_result"
    }
   ],
   "source": [
    "tempInitial.shape"
   ]
  },
  {
   "cell_type": "code",
   "execution_count": 27,
   "metadata": {},
   "outputs": [],
   "source": [
    "trainInputOutput = np.array([trainInput[0]])"
   ]
  },
  {
   "cell_type": "code",
   "execution_count": 19,
   "metadata": {},
   "outputs": [
    {
     "data": {
      "text/plain": [
       "(1, 155)"
      ]
     },
     "execution_count": 19,
     "metadata": {},
     "output_type": "execute_result"
    }
   ],
   "source": [
    "trainOutputCorrect = "
   ]
  },
  {
   "cell_type": "code",
   "execution_count": 23,
   "metadata": {},
   "outputs": [
    {
     "data": {
      "text/plain": [
       "array([[-0.2079881 , -0.23305488, -0.57442909, -0.05787946, -0.37204942,\n",
       "        -0.61315668, -0.74217069, -0.62456506, -0.6395818 , -0.3666679 ,\n",
       "        -0.24329837,  0.06743189,  0.0958185 ,  0.03529843, -0.01472261,\n",
       "        -0.07814327, -0.13190587, -0.18025988, -0.20406251, -0.20037086,\n",
       "        -0.1667065 , -0.1186045 , -0.11107491, -0.14775629, -0.21007359,\n",
       "        -0.31794092, -0.31113791, -0.18246566,  0.05045862,  0.33352444,\n",
       "        -0.59197152,  0.44260809, -1.61613464,  1.93242168, -0.58314335,\n",
       "        -0.30056068,  0.04339181,  0.22953203, -0.08401331, -0.00671152,\n",
       "         0.08136415,  0.06234349,  0.0409789 ,  0.0814122 ,  0.07418349,\n",
       "         0.07951751,  0.08882472,  0.1085145 ,  0.12911622,  0.16881423,\n",
       "         0.10940989,  0.05367845,  0.0871893 ,  0.0309795 , -0.06988629,\n",
       "        -0.1740905 , -0.29827809, -0.32341054, -0.38360524, -0.35045251]])"
      ]
     },
     "execution_count": 23,
     "metadata": {},
     "output_type": "execute_result"
    }
   ],
   "source": [
    "testingInput[:,0:60]"
   ]
  },
  {
   "cell_type": "code",
   "execution_count": 24,
   "metadata": {},
   "outputs": [
    {
     "data": {
      "text/plain": [
       "array([[-7.2024576e-03, -7.8817643e-03, -5.9991591e-03,  2.4970807e-04,\n",
       "        -4.6590567e-03, -3.9154384e-03, -1.2543737e-03,  3.0450523e-04,\n",
       "        -4.5084879e-03, -9.9692475e-03, -8.0485092e-03, -5.5964049e-03,\n",
       "        -3.3811084e-03,  4.8931502e-04, -4.1309595e-03, -2.4606256e-02,\n",
       "        -5.7870522e-05,  5.5428281e-02, -2.4197917e-02, -4.5335039e-02,\n",
       "        -2.7256425e-02, -1.8537480e-02, -2.7360450e-02, -3.3415291e-02,\n",
       "        -4.2714298e-02, -3.9138496e-02, -3.1631801e-02, -3.7788633e-02,\n",
       "        -2.5579730e-02,  1.9167750e-01,  4.1209505e-04,  1.4211008e-04,\n",
       "         2.0533887e-04, -2.6921314e-04,  3.7959270e-04,  9.7634074e-05,\n",
       "        -5.6640245e-05,  1.7730437e-03,  1.1578609e-03, -1.7818343e-04,\n",
       "        -1.2180600e-03,  1.0908586e-03,  3.7646294e-03,  3.5198745e-03,\n",
       "         7.2089834e-03,  1.4648067e-03, -1.1457561e-02, -1.3160197e-02,\n",
       "         1.4728687e-02,  2.0500146e-02,  2.0986304e-02,  5.9048636e-03,\n",
       "         1.0046270e-02,  1.7794006e-02,  2.1977330e-02,  3.0063152e-02,\n",
       "         3.6329493e-02, -1.8539194e-02,  2.5431708e-02,  4.1869515e-01]],\n",
       "      dtype=float32)"
      ]
     },
     "execution_count": 24,
     "metadata": {},
     "output_type": "execute_result"
    }
   ],
   "source": [
    "testingOutput[:,0:60]"
   ]
  },
  {
   "cell_type": "code",
   "execution_count": 20,
   "metadata": {},
   "outputs": [
    {
     "data": {
      "text/plain": [
       "(1, 60)"
      ]
     },
     "execution_count": 20,
     "metadata": {},
     "output_type": "execute_result"
    }
   ],
   "source": [
    "testingOutput.shape"
   ]
  },
  {
   "cell_type": "code",
   "execution_count": null,
   "metadata": {},
   "outputs": [],
   "source": [
    "#Input Files\n",
    "#NNDT = openFile(\"NNDT\")\n",
    "#NNDQ = openFile(\"NNDQ\")\n",
    "\n",
    "#NNLHF = openFile(\"NNLHF\") \n",
    "#NNPS = openFile(\"NNPS\") \n",
    "#NNQBP = openFile(\"NNQBP\") \n",
    "#NNSHF = openFile(\"NNSHF\") \n",
    "#NNSOLIN = openFile(\"NNSOLIN\") \n",
    "#NNTBP = openFile(\"NNTBP\") \n",
    "#NNVBP = openFile(\"NNVBP\") \n",
    "\n",
    "#Output Files\n",
    "#SPDT = openFile(\"SPDT\")\n",
    "#QRL = openFile(\"QRL\")\n",
    "#QRS = openFile(\"QRS\")\n",
    "#SPTFLUX = openFile(\"SPTFLUX\")\n",
    "\n",
    "#SPDQ = openFile(\"SPDQ\")\n",
    "#SPQFLUX = openFile(\"SPQFLUX\")"
   ]
  },
  {
   "cell_type": "code",
   "execution_count": 19,
   "metadata": {},
   "outputs": [
    {
     "data": {
      "text/plain": [
       "(4, 155)"
      ]
     },
     "execution_count": 19,
     "metadata": {},
     "output_type": "execute_result"
    }
   ],
   "source": [
    "trainInput[0:4].shape"
   ]
  },
  {
   "cell_type": "code",
   "execution_count": 23,
   "metadata": {},
   "outputs": [
    {
     "data": {
      "text/plain": [
       "(155, 1)"
      ]
     },
     "execution_count": 23,
     "metadata": {},
     "output_type": "execute_result"
    }
   ],
   "source": [
    "np.array([trainInput[0]]).transpose().shape"
   ]
  },
  {
   "cell_type": "code",
   "execution_count": 24,
   "metadata": {},
   "outputs": [
    {
     "data": {
      "text/plain": [
       "(155,)"
      ]
     },
     "execution_count": 24,
     "metadata": {},
     "output_type": "execute_result"
    }
   ],
   "source": [
    "trainInput[0].shape"
   ]
  },
  {
   "cell_type": "code",
   "execution_count": 26,
   "metadata": {},
   "outputs": [],
   "source": [
    "#Input Files\n",
    "#NNDT = openFile(\"NNDT\")\n",
    "#NNDQ = openFile(\"NNDQ\")\n",
    "\n",
    "#NNLHF = openFile(\"NNLHF\") \n",
    "#NNPS = openFile(\"NNPS\") \n",
    "#NNQBP = openFile(\"NNQBP\") \n",
    "#NNSHF = openFile(\"NNSHF\") \n",
    "#NNSOLIN = openFile(\"NNSOLIN\") \n",
    "#NNTBP = openFile(\"NNTBP\") \n",
    "#NNVBP = openFile(\"NNVBP\") \n",
    "\n",
    "#Output Files\n",
    "#SPDT = openFile(\"SPDT\")\n",
    "#QRL = openFile(\"QRL\")\n",
    "#QRS = openFile(\"QRS\")\n",
    "#SPTFLUX = openFile(\"SPTFLUX\")\n",
    "\n",
    "#SPDQ = openFile(\"SPDQ\")\n",
    "#SPQFLUX = openFile(\"SPQFLUX\")"
   ]
  },
  {
   "cell_type": "code",
   "execution_count": null,
   "metadata": {},
   "outputs": [],
   "source": []
  }
 ],
 "metadata": {
  "kernelspec": {
   "display_name": "Python 3",
   "language": "python",
   "name": "python3"
  },
  "language_info": {
   "codemirror_mode": {
    "name": "ipython",
    "version": 3
   },
   "file_extension": ".py",
   "mimetype": "text/x-python",
   "name": "python",
   "nbconvert_exporter": "python",
   "pygments_lexer": "ipython3",
   "version": "3.7.3"
  }
 },
 "nbformat": 4,
 "nbformat_minor": 2
}
