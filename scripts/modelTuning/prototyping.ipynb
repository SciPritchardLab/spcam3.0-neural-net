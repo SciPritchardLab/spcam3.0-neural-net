{
 "cells": [
  {
   "cell_type": "code",
   "execution_count": 21,
   "metadata": {},
   "outputs": [],
   "source": [
    "import xarray as xr\n",
    "import numpy as np\n",
    "import pandas as pd\n",
    "from tensorflow import keras\n",
    "from keras.models import Sequential\n",
    "from keras.layers import Dense\n",
    "from keras.optimizers import SGD\n",
    "import matplotlib.pyplot as plt"
   ]
  },
  {
   "cell_type": "code",
   "execution_count": 2,
   "metadata": {},
   "outputs": [],
   "source": [
    "with open('trainInput.npy', 'rb') as f:\n",
    "    trainInput = np.load(f)\n",
    "    \n",
    "with open('trainOutput.npy', 'rb') as f:\n",
    "    trainOutput = np.load(f)\n",
    "    \n",
    "with open('testInput.npy', 'rb') as f:\n",
    "    testInput = np.load(f)\n",
    "    \n",
    "with open('testOutput.npy', 'rb') as f:\n",
    "    testOutput = np.load(f)"
   ]
  },
  {
   "cell_type": "code",
   "execution_count": 3,
   "metadata": {},
   "outputs": [
    {
     "data": {
      "text/plain": [
       "(6357811, 155)"
      ]
     },
     "execution_count": 3,
     "metadata": {},
     "output_type": "execute_result"
    }
   ],
   "source": [
    "trainInput.shape"
   ]
  },
  {
   "cell_type": "code",
   "execution_count": 4,
   "metadata": {},
   "outputs": [
    {
     "data": {
      "text/plain": [
       "(6357811, 60)"
      ]
     },
     "execution_count": 4,
     "metadata": {},
     "output_type": "execute_result"
    }
   ],
   "source": [
    "trainOutput.shape"
   ]
  },
  {
   "cell_type": "code",
   "execution_count": 5,
   "metadata": {},
   "outputs": [
    {
     "data": {
      "text/plain": [
       "(1589453, 155)"
      ]
     },
     "execution_count": 5,
     "metadata": {},
     "output_type": "execute_result"
    }
   ],
   "source": [
    "testInput.shape"
   ]
  },
  {
   "cell_type": "code",
   "execution_count": 6,
   "metadata": {},
   "outputs": [
    {
     "data": {
      "text/plain": [
       "(1589453, 60)"
      ]
     },
     "execution_count": 6,
     "metadata": {},
     "output_type": "execute_result"
    }
   ],
   "source": [
    "testOutput.shape"
   ]
  },
  {
   "cell_type": "code",
   "execution_count": 7,
   "metadata": {},
   "outputs": [],
   "source": [
    "smalltrainInput = trainInput[0:80000,:]\n",
    "smalltrainOutput = trainOutput[0:80000,:]\n",
    "smalltestInput = testInput[0:20000,:]\n",
    "smalltestOutput = testOutput[0:20000,:]"
   ]
  },
  {
   "cell_type": "code",
   "execution_count": 8,
   "metadata": {},
   "outputs": [
    {
     "data": {
      "text/plain": [
       "(80000, 155)"
      ]
     },
     "execution_count": 8,
     "metadata": {},
     "output_type": "execute_result"
    }
   ],
   "source": [
    "smalltrainInput.shape"
   ]
  },
  {
   "cell_type": "code",
   "execution_count": 9,
   "metadata": {},
   "outputs": [
    {
     "data": {
      "text/plain": [
       "(80000, 60)"
      ]
     },
     "execution_count": 9,
     "metadata": {},
     "output_type": "execute_result"
    }
   ],
   "source": [
    "smalltrainOutput.shape"
   ]
  },
  {
   "cell_type": "code",
   "execution_count": 10,
   "metadata": {},
   "outputs": [
    {
     "data": {
      "text/plain": [
       "(20000, 155)"
      ]
     },
     "execution_count": 10,
     "metadata": {},
     "output_type": "execute_result"
    }
   ],
   "source": [
    "smalltestInput.shape"
   ]
  },
  {
   "cell_type": "code",
   "execution_count": 11,
   "metadata": {},
   "outputs": [
    {
     "data": {
      "text/plain": [
       "(20000, 60)"
      ]
     },
     "execution_count": 11,
     "metadata": {},
     "output_type": "execute_result"
    }
   ],
   "source": [
    "smalltestOutput.shape"
   ]
  },
  {
   "cell_type": "code",
   "execution_count": null,
   "metadata": {},
   "outputs": [],
   "source": [
    "smalltrai"
   ]
  },
  {
   "cell_type": "code",
   "execution_count": 12,
   "metadata": {},
   "outputs": [
    {
     "name": "stdout",
     "output_type": "stream",
     "text": [
      "WARNING:tensorflow:From /home1/08110/tg874091/miniconda3/envs/CPU/lib/python3.7/site-packages/keras/backend/tensorflow_backend.py:74: The name tf.get_default_graph is deprecated. Please use tf.compat.v1.get_default_graph instead.\n",
      "\n",
      "WARNING:tensorflow:From /home1/08110/tg874091/miniconda3/envs/CPU/lib/python3.7/site-packages/keras/backend/tensorflow_backend.py:517: The name tf.placeholder is deprecated. Please use tf.compat.v1.placeholder instead.\n",
      "\n",
      "WARNING:tensorflow:From /home1/08110/tg874091/miniconda3/envs/CPU/lib/python3.7/site-packages/keras/backend/tensorflow_backend.py:4115: The name tf.random_normal is deprecated. Please use tf.random.normal instead.\n",
      "\n",
      "WARNING:tensorflow:From /home1/08110/tg874091/miniconda3/envs/CPU/lib/python3.7/site-packages/keras/backend/tensorflow_backend.py:4138: The name tf.random_uniform is deprecated. Please use tf.random.uniform instead.\n",
      "\n"
     ]
    }
   ],
   "source": [
    "model = Sequential()\n",
    "model.add(Dense(186, input_dim=155, kernel_initializer='normal', activation='relu'))\n",
    "model.add(Dense(217, kernel_initializer='normal', activation='relu'))\n",
    "model.add(Dense(104, kernel_initializer='normal', activation='relu'))\n",
    "#model.add(Dense(201, kernel_initializer='normal', activation='relu'))\n",
    "#model.add(Dense(154, kernel_initializer='normal', activation='relu'))\n",
    "#model.add(Dense(107, kernel_initializer='normal', activation='relu'))\n",
    "model.add(Dense(60, activation='linear'))\n"
   ]
  },
  {
   "cell_type": "code",
   "execution_count": 39,
   "metadata": {},
   "outputs": [
    {
     "data": {
      "text/plain": [
       "<tf.Tensor 'Assign:0' shape=() dtype=float32_ref>"
      ]
     },
     "execution_count": 39,
     "metadata": {},
     "output_type": "execute_result"
    }
   ],
   "source": [
    "#opt = keras.optimizers.Adam(learning_rate=0.01)\n",
    "#model.compile(loss='categorical_crossentropy', optimizer=opt)\n",
    "#model.compile(loss='mse', optimizer=opt)\n",
    "new_lr = 0.01\n",
    "model.compile(optimizer = 'adam', loss = 'mse')\n",
    "model.optimizer.lr.assign(new_lr)"
   ]
  },
  {
   "cell_type": "code",
   "execution_count": null,
   "metadata": {},
   "outputs": [
    {
     "name": "stdout",
     "output_type": "stream",
     "text": [
      "Train on 5086248 samples, validate on 1271563 samples\n",
      "Epoch 1/100\n",
      "5086248/5086248 [==============================] - 35s 7us/step - loss: 0.0116 - val_loss: 0.0110\n",
      "Epoch 2/100\n",
      "5086248/5086248 [==============================] - 42s 8us/step - loss: 0.0104 - val_loss: 0.0103\n",
      "Epoch 3/100\n",
      "5086248/5086248 [==============================] - 42s 8us/step - loss: 0.0098 - val_loss: 0.0096\n",
      "Epoch 4/100\n",
      "5086248/5086248 [==============================] - 41s 8us/step - loss: 0.0093 - val_loss: 0.0092\n",
      "Epoch 5/100\n",
      "5086248/5086248 [==============================] - 41s 8us/step - loss: 0.0090 - val_loss: 0.0090\n",
      "Epoch 6/100\n",
      "5086248/5086248 [==============================] - 41s 8us/step - loss: 0.0088 - val_loss: 0.0088\n",
      "Epoch 7/100\n",
      "5086248/5086248 [==============================] - 39s 8us/step - loss: 0.0086 - val_loss: 0.0086\n",
      "Epoch 8/100\n",
      "5086248/5086248 [==============================] - 38s 7us/step - loss: 0.0084 - val_loss: 0.0086\n",
      "Epoch 9/100\n",
      "1949061/5086248 [==========>...................] - ETA: 20s - loss: 0.0083"
     ]
    }
   ],
   "source": [
    "trainFit = model.fit(trainInput, trainOutput, validation_split = .2, batch_size = 1563, epochs = 20)"
   ]
  },
  {
   "cell_type": "code",
   "execution_count": 15,
   "metadata": {},
   "outputs": [
    {
     "data": {
      "text/plain": [
       "keras.callbacks.History"
      ]
     },
     "execution_count": 15,
     "metadata": {},
     "output_type": "execute_result"
    }
   ],
   "source": [
    "type(trainFit)"
   ]
  },
  {
   "cell_type": "code",
   "execution_count": 16,
   "metadata": {},
   "outputs": [
    {
     "data": {
      "text/plain": [
       "[<matplotlib.lines.Line2D at 0x2b78ebde90f0>]"
      ]
     },
     "execution_count": 16,
     "metadata": {},
     "output_type": "execute_result"
    },
    {
     "data": {
      "image/png": "[encoded data removed]",
      "text/plain": [
       "<Figure size 432x288 with 1 Axes>"
      ]
     },
     "metadata": {
      "needs_background": "light"
     },
     "output_type": "display_data"
    }
   ],
   "source": [
    "plt.plot(trainFit.history[\"loss\"])"
   ]
  },
  {
   "cell_type": "code",
   "execution_count": null,
   "metadata": {},
   "outputs": [],
   "source": []
  }
 ],
 "metadata": {
  "kernelspec": {
   "display_name": "Python 3",
   "language": "python",
   "name": "python3"
  },
  "language_info": {
   "codemirror_mode": {
    "name": "ipython",
    "version": 3
   },
   "file_extension": ".py",
   "mimetype": "text/x-python",
   "name": "python",
   "nbconvert_exporter": "python",
   "pygments_lexer": "ipython3",
   "version": "3.7.3"
  }
 },
 "nbformat": 4,
 "nbformat_minor": 4
}
