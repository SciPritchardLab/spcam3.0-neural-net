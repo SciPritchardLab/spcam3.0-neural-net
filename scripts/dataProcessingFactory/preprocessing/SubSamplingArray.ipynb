{
 "cells": [
  {
   "cell_type": "code",
   "execution_count": 1,
   "metadata": {},
   "outputs": [],
   "source": [
    "import numpy as np\n",
    "import os\n",
    "import re\n",
    "import matplotlib.pyplot as plt\n",
    "from tqdm import tqdm\n",
    "np.random.seed(2022)"
   ]
  },
  {
   "cell_type": "code",
   "execution_count": 4,
   "metadata": {},
   "outputs": [],
   "source": [
    "path = \"/ocean/projects/atm200007p/jlin96/nnIngredientFactory/cleanDataFolder/\"\n",
    "subFolders = !ls ../cleanDataFolder/\n",
    "files = [path + x + \"/\" + re.sub(\"training\",\"nnInput\",x) + \".npy\" for x in subFolders]"
   ]
  },
  {
   "cell_type": "code",
   "execution_count": 5,
   "metadata": {},
   "outputs": [
    {
     "data": {
      "text/plain": [
       "['/ocean/projects/atm200007p/jlin96/nnIngredientFactory/cleanDataFolder/training_01_09/nnInput_01_09.npy',\n",
       " '/ocean/projects/atm200007p/jlin96/nnIngredientFactory/cleanDataFolder/training_01_17/nnInput_01_17.npy',\n",
       " '/ocean/projects/atm200007p/jlin96/nnIngredientFactory/cleanDataFolder/training_01_25/nnInput_01_25.npy',\n",
       " '/ocean/projects/atm200007p/jlin96/nnIngredientFactory/cleanDataFolder/training_02_02/nnInput_02_02.npy',\n",
       " '/ocean/projects/atm200007p/jlin96/nnIngredientFactory/cleanDataFolder/training_02_10/nnInput_02_10.npy',\n",
       " '/ocean/projects/atm200007p/jlin96/nnIngredientFactory/cleanDataFolder/training_02_18/nnInput_02_18.npy',\n",
       " '/ocean/projects/atm200007p/jlin96/nnIngredientFactory/cleanDataFolder/training_02_26/nnInput_02_26.npy',\n",
       " '/ocean/projects/atm200007p/jlin96/nnIngredientFactory/cleanDataFolder/training_03_06/nnInput_03_06.npy',\n",
       " '/ocean/projects/atm200007p/jlin96/nnIngredientFactory/cleanDataFolder/training_03_14/nnInput_03_14.npy',\n",
       " '/ocean/projects/atm200007p/jlin96/nnIngredientFactory/cleanDataFolder/training_03_22/nnInput_03_22.npy',\n",
       " '/ocean/projects/atm200007p/jlin96/nnIngredientFactory/cleanDataFolder/training_03_30/nnInput_03_30.npy',\n",
       " '/ocean/projects/atm200007p/jlin96/nnIngredientFactory/cleanDataFolder/training_04_07/nnInput_04_07.npy',\n",
       " '/ocean/projects/atm200007p/jlin96/nnIngredientFactory/cleanDataFolder/training_04_15/nnInput_04_15.npy',\n",
       " '/ocean/projects/atm200007p/jlin96/nnIngredientFactory/cleanDataFolder/training_04_23/nnInput_04_23.npy',\n",
       " '/ocean/projects/atm200007p/jlin96/nnIngredientFactory/cleanDataFolder/training_05_01/nnInput_05_01.npy',\n",
       " '/ocean/projects/atm200007p/jlin96/nnIngredientFactory/cleanDataFolder/training_05_09/nnInput_05_09.npy',\n",
       " '/ocean/projects/atm200007p/jlin96/nnIngredientFactory/cleanDataFolder/training_05_17/nnInput_05_17.npy',\n",
       " '/ocean/projects/atm200007p/jlin96/nnIngredientFactory/cleanDataFolder/training_05_25/nnInput_05_25.npy',\n",
       " '/ocean/projects/atm200007p/jlin96/nnIngredientFactory/cleanDataFolder/training_06_02/nnInput_06_02.npy',\n",
       " '/ocean/projects/atm200007p/jlin96/nnIngredientFactory/cleanDataFolder/training_06_10/nnInput_06_10.npy',\n",
       " '/ocean/projects/atm200007p/jlin96/nnIngredientFactory/cleanDataFolder/training_06_18/nnInput_06_18.npy',\n",
       " '/ocean/projects/atm200007p/jlin96/nnIngredientFactory/cleanDataFolder/training_06_26/nnInput_06_26.npy',\n",
       " '/ocean/projects/atm200007p/jlin96/nnIngredientFactory/cleanDataFolder/training_07_04/nnInput_07_04.npy',\n",
       " '/ocean/projects/atm200007p/jlin96/nnIngredientFactory/cleanDataFolder/training_07_12/nnInput_07_12.npy',\n",
       " '/ocean/projects/atm200007p/jlin96/nnIngredientFactory/cleanDataFolder/training_07_20/nnInput_07_20.npy',\n",
       " '/ocean/projects/atm200007p/jlin96/nnIngredientFactory/cleanDataFolder/training_07_28/nnInput_07_28.npy',\n",
       " '/ocean/projects/atm200007p/jlin96/nnIngredientFactory/cleanDataFolder/training_08_05/nnInput_08_05.npy',\n",
       " '/ocean/projects/atm200007p/jlin96/nnIngredientFactory/cleanDataFolder/training_08_13/nnInput_08_13.npy',\n",
       " '/ocean/projects/atm200007p/jlin96/nnIngredientFactory/cleanDataFolder/training_08_21/nnInput_08_21.npy',\n",
       " '/ocean/projects/atm200007p/jlin96/nnIngredientFactory/cleanDataFolder/training_08_29/nnInput_08_29.npy',\n",
       " '/ocean/projects/atm200007p/jlin96/nnIngredientFactory/cleanDataFolder/training_09_06/nnInput_09_06.npy',\n",
       " '/ocean/projects/atm200007p/jlin96/nnIngredientFactory/cleanDataFolder/training_09_14/nnInput_09_14.npy',\n",
       " '/ocean/projects/atm200007p/jlin96/nnIngredientFactory/cleanDataFolder/training_09_22/nnInput_09_22.npy',\n",
       " '/ocean/projects/atm200007p/jlin96/nnIngredientFactory/cleanDataFolder/training_09_30/nnInput_09_30.npy',\n",
       " '/ocean/projects/atm200007p/jlin96/nnIngredientFactory/cleanDataFolder/training_10_08/nnInput_10_08.npy',\n",
       " '/ocean/projects/atm200007p/jlin96/nnIngredientFactory/cleanDataFolder/training_10_16/nnInput_10_16.npy',\n",
       " '/ocean/projects/atm200007p/jlin96/nnIngredientFactory/cleanDataFolder/training_10_24/nnInput_10_24.npy',\n",
       " '/ocean/projects/atm200007p/jlin96/nnIngredientFactory/cleanDataFolder/training_11_01/nnInput_11_01.npy',\n",
       " '/ocean/projects/atm200007p/jlin96/nnIngredientFactory/cleanDataFolder/training_11_09/nnInput_11_09.npy',\n",
       " '/ocean/projects/atm200007p/jlin96/nnIngredientFactory/cleanDataFolder/training_11_17/nnInput_11_17.npy',\n",
       " '/ocean/projects/atm200007p/jlin96/nnIngredientFactory/cleanDataFolder/training_11_25/nnInput_11_25.npy',\n",
       " '/ocean/projects/atm200007p/jlin96/nnIngredientFactory/cleanDataFolder/training_12_03/nnInput_12_03.npy',\n",
       " '/ocean/projects/atm200007p/jlin96/nnIngredientFactory/cleanDataFolder/training_12_11/nnInput_12_11.npy',\n",
       " '/ocean/projects/atm200007p/jlin96/nnIngredientFactory/cleanDataFolder/training_12_19/nnInput_12_19.npy',\n",
       " '/ocean/projects/atm200007p/jlin96/nnIngredientFactory/cleanDataFolder/training_12_27/nnInput_12_27.npy']"
      ]
     },
     "execution_count": 5,
     "metadata": {},
     "output_type": "execute_result"
    }
   ],
   "source": [
    "files"
   ]
  },
  {
   "cell_type": "code",
   "execution_count": 6,
   "metadata": {},
   "outputs": [],
   "source": [
    "def sampleIndices(size, spacing, fixed = True):\n",
    "    numIndices = np.round(size/spacing)\n",
    "    if fixed:\n",
    "        indices = np.array([int(x) for x in np.round(np.linspace(1,size,int(numIndices)))])-1\n",
    "    else:\n",
    "        indices = list(range(size))\n",
    "        np.random.shuffle(indices)\n",
    "        indices = indices[0:int(numIndices)]\n",
    "    return indices\n",
    "\n",
    "def shrinkArray(nnData):\n",
    "    nnData = nnData[:,:,:,sampleIndices(nnData.shape[3], 5, True)]\n",
    "    nnData = nnData.ravel(order = 'F').reshape(184,-1,order = 'F')\n",
    "    return nnData\n",
    "\n",
    "def splitArray(nnData):\n",
    "    nnInputSpecific = nnData[0:64,:]\n",
    "    nnInputRelative = np.concatenate((nnData[:30,:],nnData[64:94,:], nnData[60:64,:]))\n",
    "    nnTarget = nnData[124:,:]\n",
    "    nnSpecific = np.concatenate((nnInputSpecific, nnTarget))\n",
    "    nnRelative = np.concatenate((nnInputRelative, nnTarget))\n",
    "    arrays = [nnSpecific, nnRelative]\n",
    "    return arrays\n",
    "\n",
    "def reorderArray(nnData):\n",
    "    canonical = np.concatenate([nnData[0:30,:], \\\n",
    "                                nnData[30:60,:], \\\n",
    "                                nnData[62:63,:], \\\n",
    "                                nnData[63:64,:], \\\n",
    "                                nnData[61:62,:], \\\n",
    "                                nnData[60:61,:], \\\n",
    "                                nnData[64:94,:], \\\n",
    "                                nnData[94:124,:]], axis = 0)\n",
    "    return canonical"
   ]
  },
  {
   "cell_type": "code",
   "execution_count": 7,
   "metadata": {},
   "outputs": [
    {
     "name": "stderr",
     "output_type": "stream",
     "text": [
      "100%|███████████████████████████████████████████████████████████████████████████████████████████████████████████████████████████████████████████| 45/45 [26:45<00:00, 35.68s/it]\n"
     ]
    }
   ],
   "source": [
    "datasets = []\n",
    "for arr in tqdm(files):\n",
    "    with open(arr, 'rb') as f:\n",
    "        nnData = np.load(f)\n",
    "        nnData = nnData[:,:-1,:,:]\n",
    "    datasets.append(shrinkArray(nnData))\n",
    "    del nnData\n",
    "combinedData = np.concatenate(datasets, axis = 1)"
   ]
  },
  {
   "cell_type": "code",
   "execution_count": 9,
   "metadata": {},
   "outputs": [],
   "source": [
    "arrs = splitArray(combinedData)"
   ]
  },
  {
   "cell_type": "code",
   "execution_count": 10,
   "metadata": {},
   "outputs": [
    {
     "data": {
      "text/plain": [
       "(124, 41099136)"
      ]
     },
     "execution_count": 10,
     "metadata": {},
     "output_type": "execute_result"
    }
   ],
   "source": [
    "arrs[0].shape"
   ]
  },
  {
   "cell_type": "code",
   "execution_count": 11,
   "metadata": {},
   "outputs": [
    {
     "data": {
      "text/plain": [
       "(124, 41099136)"
      ]
     },
     "execution_count": 11,
     "metadata": {},
     "output_type": "execute_result"
    }
   ],
   "source": [
    "arrs[1].shape"
   ]
  },
  {
   "cell_type": "code",
   "execution_count": 12,
   "metadata": {},
   "outputs": [],
   "source": [
    "rearrangedSpecific = reorderArray(arrs[0])\n",
    "rearrangedRelative = reorderArray(arrs[1])"
   ]
  },
  {
   "cell_type": "code",
   "execution_count": 13,
   "metadata": {},
   "outputs": [
    {
     "data": {
      "text/plain": [
       "(124, 41099136)"
      ]
     },
     "execution_count": 13,
     "metadata": {},
     "output_type": "execute_result"
    }
   ],
   "source": [
    "rearrangedSpecific.shape"
   ]
  },
  {
   "cell_type": "code",
   "execution_count": 14,
   "metadata": {},
   "outputs": [
    {
     "data": {
      "text/plain": [
       "(124, 41099136)"
      ]
     },
     "execution_count": 14,
     "metadata": {},
     "output_type": "execute_result"
    }
   ],
   "source": [
    "rearrangedRelative.shape"
   ]
  },
  {
   "cell_type": "code",
   "execution_count": 15,
   "metadata": {},
   "outputs": [],
   "source": [
    "averagesSpecific = np.mean(rearrangedSpecific, axis = 1)"
   ]
  },
  {
   "cell_type": "code",
   "execution_count": 16,
   "metadata": {},
   "outputs": [],
   "source": [
    "averagesRelative = np.mean(rearrangedRelative, axis = 1)"
   ]
  },
  {
   "cell_type": "code",
   "execution_count": 17,
   "metadata": {},
   "outputs": [
    {
     "data": {
      "text/plain": [
       "(124,)"
      ]
     },
     "execution_count": 17,
     "metadata": {},
     "output_type": "execute_result"
    }
   ],
   "source": [
    "averagesSpecific.shape"
   ]
  },
  {
   "cell_type": "code",
   "execution_count": 18,
   "metadata": {},
   "outputs": [
    {
     "data": {
      "text/plain": [
       "(124,)"
      ]
     },
     "execution_count": 18,
     "metadata": {},
     "output_type": "execute_result"
    }
   ],
   "source": [
    "averagesRelative.shape"
   ]
  },
  {
   "cell_type": "code",
   "execution_count": 19,
   "metadata": {},
   "outputs": [],
   "source": [
    "averagedCombined = np.mean(combinedData, axis = 1)"
   ]
  },
  {
   "cell_type": "code",
   "execution_count": 20,
   "metadata": {},
   "outputs": [
    {
     "data": {
      "text/plain": [
       "(184,)"
      ]
     },
     "execution_count": 20,
     "metadata": {},
     "output_type": "execute_result"
    }
   ],
   "source": [
    "averagedCombined.shape"
   ]
  },
  {
   "cell_type": "code",
   "execution_count": 21,
   "metadata": {},
   "outputs": [
    {
     "data": {
      "image/png": "[encoded data removed]",
      "text/plain": [
       "<Figure size 432x288 with 1 Axes>"
      ]
     },
     "metadata": {
      "needs_background": "light"
     },
     "output_type": "display_data"
    }
   ],
   "source": [
    "plt.plot(averagedCombined[64:94], range(30))\n",
    "plt.gca().invert_yaxis()"
   ]
  },
  {
   "cell_type": "code",
   "execution_count": 22,
   "metadata": {},
   "outputs": [
    {
     "data": {
      "image/png": "[encoded data removed]",
      "text/plain": [
       "<Figure size 432x288 with 1 Axes>"
      ]
     },
     "metadata": {
      "needs_background": "light"
     },
     "output_type": "display_data"
    }
   ],
   "source": [
    "plt.plot(averagedCombined[94:124], range(30))\n",
    "plt.gca().invert_yaxis()"
   ]
  },
  {
   "cell_type": "code",
   "execution_count": 23,
   "metadata": {},
   "outputs": [
    {
     "data": {
      "image/png": "[encoded data removed]",
      "text/plain": [
       "<Figure size 432x288 with 1 Axes>"
      ]
     },
     "metadata": {
      "needs_background": "light"
     },
     "output_type": "display_data"
    }
   ],
   "source": [
    "plt.plot(averagesSpecific[30:60], range(30))\n",
    "plt.gca().invert_yaxis()"
   ]
  },
  {
   "cell_type": "code",
   "execution_count": 24,
   "metadata": {},
   "outputs": [
    {
     "data": {
      "image/png": "[encoded data removed]",
      "text/plain": [
       "<Figure size 432x288 with 1 Axes>"
      ]
     },
     "metadata": {
      "needs_background": "light"
     },
     "output_type": "display_data"
    }
   ],
   "source": [
    "plt.plot(averagesRelative[30:60], range(30))\n",
    "plt.gca().invert_yaxis()"
   ]
  },
  {
   "cell_type": "code",
   "execution_count": 25,
   "metadata": {},
   "outputs": [],
   "source": [
    "path = \"/ocean/projects/atm200007p/jlin96/nnIngredientFactory/preprocessing/\"\n",
    "with open(path + 'nnDataSpecific.npy', 'wb') as f:\n",
    "    np.save(f, rearrangedSpecific)\n",
    "with open(path + 'nnDataRelative.npy', 'wb') as f:\n",
    "    np.save(f, rearrangedRelative)"
   ]
  },
  {
   "cell_type": "code",
   "execution_count": 26,
   "metadata": {},
   "outputs": [
    {
     "name": "stdout",
     "output_type": "stream",
     "text": [
      "finished\n"
     ]
    }
   ],
   "source": [
    "print(\"finished\")"
   ]
  }
 ],
 "metadata": {
  "kernelspec": {
   "display_name": "Python 3 (ipykernel)",
   "language": "python",
   "name": "python3"
  },
  "language_info": {
   "codemirror_mode": {
    "name": "ipython",
    "version": 3
   },
   "file_extension": ".py",
   "mimetype": "text/x-python",
   "name": "python",
   "nbconvert_exporter": "python",
   "pygments_lexer": "ipython3",
   "version": "3.9.7"
  }
 },
 "nbformat": 4,
 "nbformat_minor": 2
}
