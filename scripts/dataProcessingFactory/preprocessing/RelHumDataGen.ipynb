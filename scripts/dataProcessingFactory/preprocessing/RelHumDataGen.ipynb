{
 "cells": [
  {
   "cell_type": "code",
   "execution_count": null,
   "metadata": {},
   "outputs": [],
   "source": [
    "import xarray as xr\n",
    "import numpy as np\n",
    "import matplotlib.pyplot as plt\n",
    "import os\n",
    "import re"
   ]
  },
  {
   "cell_type": "code",
   "execution_count": null,
   "metadata": {},
   "outputs": [],
   "source": [
    "def polyval(coefficients, x):\n",
    "    total = 0\n",
    "    for coeff in range(len(coefficients)):\n",
    "        total = total + coefficients[-(coeff+1)]*(x**coeff)\n",
    "    return np.float32(total)\n",
    "\n",
    "def eliq(T):\n",
    "    a_liq = np.float32(np.array([-0.976195544e-15,-0.952447341e-13,\\\n",
    "                                 0.640689451e-10,\\\n",
    "                      0.206739458e-7,0.302950461e-5,0.264847430e-3,\\\n",
    "                      0.142986287e-1,0.443987641,6.11239921]));\n",
    "    c_liq = np.float32(-80.0)\n",
    "    T0 = np.float32(273.16)\n",
    "    return np.float32(100.0)*polyval(a_liq,np.maximum(c_liq,T-T0))\n",
    "\n",
    "def eiceOriginal(T):\n",
    "    a_ice = np.float32(np.array([0.252751365e-14,0.146898966e-11,0.385852041e-9,\\\n",
    "                      0.602588177e-7,0.615021634e-5,0.420895665e-3,\\\n",
    "                      0.188439774e-1,0.503160820,6.11147274]));\n",
    "    c_ice = np.float32(np.array([273.15,185,-100,0.00763685,0.000151069,7.48215e-07]))\n",
    "    T0 = np.float32(273.16)\n",
    "    return np.transpose(np.where(T>c_ice[0],eliq(T),\\\n",
    "                   np.transpose(np.where(T<=c_ice[1],np.float32(100.0)*(c_ice[3]+np.maximum(c_ice[2],T-T0)*\\\n",
    "                   (c_ice[4]+np.maximum(c_ice[2],T-T0)*c_ice[5])),\\\n",
    "                           np.float32(100.0)*polyval(a_ice,T-T0)))))\n",
    "\n",
    "def eice(T):\n",
    "    a_ice = np.float32(np.array([0.252751365e-14,0.146898966e-11,0.385852041e-9,\\\n",
    "                      0.602588177e-7,0.615021634e-5,0.420895665e-3,\\\n",
    "                      0.188439774e-1,0.503160820,6.11147274]));\n",
    "    c_ice = np.float32(np.array([273.15,185,-100,0.00763685,0.000151069,7.48215e-07]))\n",
    "    T0 = np.float32(273.16)\n",
    "    return np.where(T>c_ice[0],eliq(T),\\\n",
    "                   np.where(T<=c_ice[1],np.float32(100.0)*(c_ice[3]+np.maximum(c_ice[2],T-T0)*\\\n",
    "                   (c_ice[4]+np.maximum(c_ice[2],T-T0)*c_ice[5])),\\\n",
    "                           np.float32(100.0)*polyval(a_ice,T-T0)))\n",
    "\n",
    "def esatOriginal(T):\n",
    "    T0 = np.float32(273.16)\n",
    "    T00 = np.float32(253.16)\n",
    "    omtmp = (T-T00)/(T0-T00)\n",
    "    omega = np.maximum(np.float32(0.0),np.minimum(np.float32(1.0),omtmp))\n",
    "    return np.transpose(np.where(T>T0,eliq(T),np.transpose(np.where(T<T00,eice(T),(omega*eliq(T)+(1-omega)*eice(T))))))\n",
    "\n",
    "def esat(T):\n",
    "    T0 = np.float32(273.16)\n",
    "    T00 = np.float32(253.16)\n",
    "    omtmp = (T-T00)/(T0-T00)\n",
    "    omega = np.maximum(np.float32(0.0),np.minimum(np.float32(1.0),omtmp))\n",
    "    return np.where(T>T0,eliq(T),np.where(T<T00,eice(T),(omega*eliq(T)+(1-omega)*eice(T))))\n",
    "\n",
    "def qv(T,RH,P0,PS,hyam,hybm):\n",
    "\n",
    "    R = np.float32(287.0)\n",
    "    Rv = np.float32(461.0)\n",
    "    p = P0 * hyam + PS[:, None] * hybm # Total pressure (Pa)\n",
    "\n",
    "    T = np.float32(T)\n",
    "    RH = np.float32(RH)\n",
    "    p = np.float32(p)\n",
    "\n",
    "    return R*esat(T)*RH/(Rv*p)\n",
    "    # DEBUG 1\n",
    "    # return esat(T)\n",
    "\n",
    "def RH(T,qv,P0,PS,hyam,hybm):\n",
    "    R = np.float32(287.0)\n",
    "    Rv = np.float32(461.0)\n",
    "    p = P0 * hyam + PS[:, None] * hybm # Total pressure (Pa)\n",
    "    \n",
    "    T = np.float32(T)\n",
    "    qv = np.float32(qv)\n",
    "    p = np.float32(p)\n",
    "    \n",
    "    return Rv*p*qv/(R*esat(T))"
   ]
  },
  {
   "cell_type": "code",
   "execution_count": null,
   "metadata": {},
   "outputs": [],
   "source": [
    "datasets = !ls\n",
    "datasets = [x for x in datasets if \"h1\" in x]\n",
    "spData = xr.open_mfdataset(datasets)"
   ]
  },
  {
   "cell_type": "code",
   "execution_count": null,
   "metadata": {},
   "outputs": [],
   "source": [
    "nntbp = np.array(spData[\"NNTBP\"])\n",
    "nnqbp = np.array(spData[\"NNQBP\"])\n",
    "p0 = np.array(spData[\"P0\"])\n",
    "ps = np.array(spData[\"NNPS\"])\n",
    "hyam = np.array(spData[\"hyam\"])\n",
    "hybm = np.array(spData[\"hybm\"])\n",
    "relhum = np.array(spData[\"RELHUM\"])\n",
    "tphystnd = np.array(spData[\"TPHYSTND\"])\n",
    "phq = np.array(spData[\"PHQ\"])\n",
    "\n",
    "p0 = np.array(list(set(p0)))\n",
    "\n",
    "newhum = np.zeros((spData[\"time\"].shape[0],\\\n",
    "                     spData[\"lev\"].shape[0], \\\n",
    "                     spData[\"lat\"].shape[0], \\\n",
    "                     spData[\"lon\"].shape[0]))\n",
    "lats = np.array(spData[\"lat\"])\n",
    "lons = np.array(spData[\"lon\"])\n",
    "\n",
    "for i in range(len(lats)):\n",
    "    for j in range(len(lons)):\n",
    "        latIndex = i\n",
    "        lonIndex = j\n",
    "        R = np.float32(287.0)\n",
    "        Rv = np.float32(461.0)\n",
    "        p = p0 * hyam + ps[:, None, latIndex, lonIndex] * hybm # Total pressure (Pa)\n",
    "\n",
    "        T = np.float32(nntbp[:, :, latIndex, lonIndex])\n",
    "        qv = np.float32(nnqbp[:, :, latIndex, lonIndex])\n",
    "        p = np.float32(p)\n",
    "        newhum[:,:, latIndex, lonIndex] = Rv*p*qv/(R*esat(T))"
   ]
  },
  {
   "cell_type": "code",
   "execution_count": null,
   "metadata": {},
   "outputs": [],
   "source": [
    "nntbp = np.moveaxis(nntbp[1:,:,:,:],0,1)\n",
    "nnqbp = np.moveaxis(nnqbp[1:,:,:,:],0,1)\n",
    "lhflx = np.array([np.array(spData[\"LHFLX\"])])[:,:-1,:,:]\n",
    "shflx = np.array([np.array(spData[\"SHFLX\"])])[:,:-1,:,:]\n",
    "ps = np.array([np.array(ps)])[:,1:,:,:]\n",
    "solin = np.array([np.array(spData[\"SOLIN\"])])[:,1:,:,:]\n",
    "newhum = np.moveaxis(newhum[1:,:,:,:],0,1)\n",
    "oldhum = np.moveaxis(relhum[1:,:,:,:],0,1)\n",
    "tphystnd = np.moveaxis(tphystnd[1:,:,:,:],0,1)\n",
    "phq = np.moveaxis(phq[1:,:,:,:],0,1)\n",
    "print(nntbp.shape)\n",
    "print(nnqbp.shape)\n",
    "print(lhflx.shape)\n",
    "print(shflx.shape)\n",
    "print(ps.shape)\n",
    "print(solin.shape)\n",
    "print(newhum.shape)\n",
    "print(oldhum.shape)\n",
    "print(tphystnd.shape)\n",
    "print(phq.shape)"
   ]
  },
  {
   "cell_type": "code",
   "execution_count": null,
   "metadata": {},
   "outputs": [],
   "source": [
    "nnInput = np.concatenate((nntbp, \\\n",
    "                          nnqbp, \\\n",
    "                          lhflx, \\\n",
    "                          shflx, \\\n",
    "                          ps, \\\n",
    "                          solin, \\\n",
    "                          newhum, \\\n",
    "                          oldhum, \\\n",
    "                          tphystnd, \\\n",
    "                          phq))\n",
    "nnInput.shape"
   ]
  },
  {
   "cell_type": "code",
   "execution_count": null,
   "metadata": {},
   "outputs": [],
   "source": [
    "suffix = !pwd\n",
    "suffix = re.sub(\"^[^_]+_\",\"\", suffix[0])"
   ]
  },
  {
   "cell_type": "code",
   "execution_count": null,
   "metadata": {},
   "outputs": [],
   "source": [
    "fileName = 'nnInput_' + suffix + '.npy'\n",
    "with open(fileName, 'wb') as f:\n",
    "    np.save(f, nnInput)"
   ]
  },
  {
   "cell_type": "code",
   "execution_count": null,
   "metadata": {},
   "outputs": [],
   "source": [
    "errors = (newhum-oldhum/100).flatten()\n",
    "result = \"Mean error: \" + str(np.mean(errors)) + \"\\n\"\n",
    "result = result + \"Variance: \" + str(np.var(errors)) + \"\\n\"\n",
    "result = result + \"nntbp.shape: \" + str(nntbp.shape) + \"\\n\"\n",
    "result = result + \"nnqbp.shape: \" + str(nnqbp.shape) + \"\\n\"\n",
    "result = result + \"lhflx.shape: \" + str(lhflx.shape) + \"\\n\"\n",
    "result = result + \"shflx.shape: \" + str(shflx.shape) + \"\\n\"\n",
    "result = result + \"ps.shape: \" + str(ps.shape) + \"\\n\"\n",
    "result = result + \"solin.shape: \" + str(solin.shape) + \"\\n\"\n",
    "result = result + \"newhum.shape: \" + str(newhum.shape) + \"\\n\"\n",
    "result = result + \"oldhum.shape: \" + str(oldhum.shape) + \"\\n\"\n",
    "result = result + \"tphystnd.shape: \" + str(tphystnd.shape) + \"\\n\"\n",
    "result = result + \"phq.shape: \" + str(phq.shape) + \"\\n\"\n",
    "result = result + \"nnInput.shape: \" + str(nnInput.shape) + \"\\n\""
   ]
  },
  {
   "cell_type": "code",
   "execution_count": null,
   "metadata": {},
   "outputs": [],
   "source": [
    "result"
   ]
  },
  {
   "cell_type": "code",
   "execution_count": null,
   "metadata": {},
   "outputs": [],
   "source": [
    "diagnostics = 'diagnostics_' + suffix + '.txt'\n",
    "with open(diagnostics, 'a') as fp:\n",
    "    fp.write(result)"
   ]
  }
 ],
 "metadata": {
  "kernelspec": {
   "display_name": "Python 3",
   "language": "python",
   "name": "python3"
  },
  "language_info": {
   "codemirror_mode": {
    "name": "ipython",
    "version": 3
   },
   "file_extension": ".py",
   "mimetype": "text/x-python",
   "name": "python",
   "nbconvert_exporter": "python",
   "pygments_lexer": "ipython3",
   "version": "3.7.3"
  }
 },
 "nbformat": 4,
 "nbformat_minor": 4
}
