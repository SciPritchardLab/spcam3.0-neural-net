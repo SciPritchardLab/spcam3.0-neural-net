{
 "cells": [
  {
   "cell_type": "code",
   "execution_count": 1,
   "metadata": {},
   "outputs": [],
   "source": [
    "import xarray as xr\n",
    "import numpy as np\n",
    "#import pandas as pd\n",
    "#from keras.models import Sequential\n",
    "#from keras.layers import Dense\n",
    "#from keras.optimizers import SGD\n",
    "#import matplotlib.pyplot as plt"
   ]
  },
  {
   "cell_type": "code",
   "execution_count": 2,
   "metadata": {},
   "outputs": [],
   "source": [
    "def openFile(var):\n",
    "    return np.array(xr.open_dataset(\"../\" + var + \"_combined.nc\" )[var])    "
   ]
  },
  {
   "cell_type": "code",
   "execution_count": 3,
   "metadata": {},
   "outputs": [],
   "source": [
    "#Input Files\n",
    "NNDT = openFile(\"NNDT\")\n",
    "NNDQ = openFile(\"NNDQ\")\n",
    "\n",
    "NNLHF = openFile(\"NNLHF\") \n",
    "NNPS = openFile(\"NNPS\") \n",
    "NNQBP = openFile(\"NNQBP\") \n",
    "NNSHF = openFile(\"NNSHF\") \n",
    "NNSOLIN = openFile(\"NNSOLIN\") \n",
    "NNTBP = openFile(\"NNTBP\") \n",
    "NNVBP = openFile(\"NNVBP\") \n",
    "\n",
    "#Output Files\n",
    "SPDT = openFile(\"SPDT\")\n",
    "QRL = openFile(\"QRL\")\n",
    "QRS = openFile(\"QRS\")\n",
    "SPTFLUX = openFile(\"SPTFLUX\")\n",
    "\n",
    "SPDQ = openFile(\"SPDQ\")\n",
    "SPQFLUX = openFile(\"SPQFLUX\")"
   ]
  },
  {
   "cell_type": "code",
   "execution_count": 4,
   "metadata": {},
   "outputs": [],
   "source": [
    "cpdair = 1.00464e3\n",
    "latvap = 2.501e6\n",
    "spHeat = (SPDT + QRL + QRS + SPTFLUX)*cpdair\n",
    "spMoist = (SPDQ + SPQFLUX)*latvap"
   ]
  },
  {
   "cell_type": "code",
   "execution_count": 5,
   "metadata": {},
   "outputs": [
    {
     "data": {
      "text/plain": [
       "(30, 7761, 64, 16)"
      ]
     },
     "execution_count": 5,
     "metadata": {},
     "output_type": "execute_result"
    }
   ],
   "source": [
    "NNDT = np.moveaxis(NNDT, 1, 0)\n",
    "NNDT.shape"
   ]
  },
  {
   "cell_type": "code",
   "execution_count": 6,
   "metadata": {},
   "outputs": [
    {
     "data": {
      "text/plain": [
       "(30, 7761, 64, 16)"
      ]
     },
     "execution_count": 6,
     "metadata": {},
     "output_type": "execute_result"
    }
   ],
   "source": [
    "NNDQ = np.moveaxis(NNDQ, 1, 0)\n",
    "NNDQ.shape"
   ]
  },
  {
   "cell_type": "code",
   "execution_count": 7,
   "metadata": {},
   "outputs": [
    {
     "data": {
      "text/plain": [
       "(1, 7761, 64, 16)"
      ]
     },
     "execution_count": 7,
     "metadata": {},
     "output_type": "execute_result"
    }
   ],
   "source": [
    "NNLHF = np.array([NNLHF])\n",
    "NNLHF.shape"
   ]
  },
  {
   "cell_type": "code",
   "execution_count": 8,
   "metadata": {},
   "outputs": [
    {
     "data": {
      "text/plain": [
       "(1, 7761, 64, 16)"
      ]
     },
     "execution_count": 8,
     "metadata": {},
     "output_type": "execute_result"
    }
   ],
   "source": [
    "NNPS = np.array([NNPS])\n",
    "NNPS.shape"
   ]
  },
  {
   "cell_type": "code",
   "execution_count": 9,
   "metadata": {},
   "outputs": [
    {
     "data": {
      "text/plain": [
       "(30, 7761, 64, 16)"
      ]
     },
     "execution_count": 9,
     "metadata": {},
     "output_type": "execute_result"
    }
   ],
   "source": [
    "NNQBP = np.moveaxis(NNQBP, 1, 0)\n",
    "NNQBP.shape"
   ]
  },
  {
   "cell_type": "code",
   "execution_count": 10,
   "metadata": {},
   "outputs": [
    {
     "data": {
      "text/plain": [
       "(1, 7761, 64, 16)"
      ]
     },
     "execution_count": 10,
     "metadata": {},
     "output_type": "execute_result"
    }
   ],
   "source": [
    "NNSHF = np.array([NNSHF])\n",
    "NNSHF.shape"
   ]
  },
  {
   "cell_type": "code",
   "execution_count": 11,
   "metadata": {},
   "outputs": [
    {
     "data": {
      "text/plain": [
       "(1, 7761, 64, 16)"
      ]
     },
     "execution_count": 11,
     "metadata": {},
     "output_type": "execute_result"
    }
   ],
   "source": [
    "NNSOLIN = np.array([NNSOLIN])\n",
    "NNSOLIN.shape"
   ]
  },
  {
   "cell_type": "code",
   "execution_count": 12,
   "metadata": {},
   "outputs": [
    {
     "data": {
      "text/plain": [
       "(30, 7761, 64, 16)"
      ]
     },
     "execution_count": 12,
     "metadata": {},
     "output_type": "execute_result"
    }
   ],
   "source": [
    "NNTBP = np.moveaxis(NNTBP, 1, 0)\n",
    "NNTBP.shape"
   ]
  },
  {
   "cell_type": "code",
   "execution_count": 13,
   "metadata": {},
   "outputs": [
    {
     "data": {
      "text/plain": [
       "(30, 7761, 64, 16)"
      ]
     },
     "execution_count": 13,
     "metadata": {},
     "output_type": "execute_result"
    }
   ],
   "source": [
    "NNVBP = np.moveaxis(NNVBP, 1, 0)\n",
    "NNVBP.shape"
   ]
  },
  {
   "cell_type": "code",
   "execution_count": 14,
   "metadata": {},
   "outputs": [
    {
     "data": {
      "text/plain": [
       "(154, 7761, 64, 16)"
      ]
     },
     "execution_count": 14,
     "metadata": {},
     "output_type": "execute_result"
    }
   ],
   "source": [
    "nnInput = np.concatenate((NNDT, \\\n",
    "                          NNDQ, \\\n",
    "                          NNLHF, \\\n",
    "                          NNPS, \\\n",
    "                          NNQBP, \\\n",
    "                          NNSHF, \\\n",
    "                          NNSOLIN, \\\n",
    "                          NNTBP, \\\n",
    "                          NNVBP), axis = 0)\n",
    "nnInput.shape"
   ]
  },
  {
   "cell_type": "code",
   "execution_count": 15,
   "metadata": {},
   "outputs": [
    {
     "data": {
      "text/plain": [
       "(154, 7947264)"
      ]
     },
     "execution_count": 15,
     "metadata": {},
     "output_type": "execute_result"
    }
   ],
   "source": [
    "nnInput = nnInput.ravel(order = 'F').reshape(154,-1, order = 'F')\n",
    "nnInput.shape"
   ]
  },
  {
   "cell_type": "code",
   "execution_count": 16,
   "metadata": {},
   "outputs": [
    {
     "data": {
      "text/plain": [
       "(60, 7947264)"
      ]
     },
     "execution_count": 16,
     "metadata": {},
     "output_type": "execute_result"
    }
   ],
   "source": [
    "spTarget = np.concatenate((spHeat, spMoist), axis = 1)\n",
    "spTarget = np.moveaxis(spTarget, 1, 0)\n",
    "spTarget = spTarget.ravel(order = 'F').reshape(60,-1, order = 'F')\n",
    "spTarget.shape"
   ]
  },
  {
   "cell_type": "code",
   "execution_count": null,
   "metadata": {},
   "outputs": [],
   "source": [
    "# ADDING INTERCEPT\n",
    "nnInput = np.concatenate((nnInput, \\\n",
    "                               np.array([np.ones(nnInput.shape[1])])), \\\n",
    "                               axis = 0)"
   ]
  },
  {
   "cell_type": "code",
   "execution_count": 21,
   "metadata": {},
   "outputs": [],
   "source": [
    "# TRAIN TEST SPLIT\n",
    "dataShuffled = np.concatenate((nnInput, spTarget), axis = 0).transpose()\n",
    "np.random.shuffle(dataShuffled)\n",
    "split = .8\n",
    "splitIndex = int(dataShuffled.shape[0]*split)\n",
    "train = dataShuffled[0:splitIndex]\n",
    "test = dataShuffled[splitIndex:len(dataShuffled)]"
   ]
  },
  {
   "cell_type": "code",
   "execution_count": 17,
   "metadata": {},
   "outputs": [],
   "source": [
    "train_mu = np.mean(train, axis = 0)[:, np.newaxis]\n",
    "train_min = train.min(axis = 0)[:, np.newaxis]\n",
    "train_max = np.amax(train, axis = 0)[:, np.newaxis]\n",
    "train_std = np.std(train, axis = 0)[:, np.newaxis]"
   ]
  },
  {
   "cell_type": "code",
   "execution_count": 18,
   "metadata": {},
   "outputs": [],
   "source": [
    "train_norm = (train-train_mu)/train_std\n",
    "test_norm = (test-train_mu)/train_std"
   ]
  },
  {
   "cell_type": "code",
   "execution_count": 19,
   "metadata": {},
   "outputs": [
    {
     "data": {
      "text/plain": [
       "(155, 7947264)"
      ]
     },
     "execution_count": 19,
     "metadata": {},
     "output_type": "execute_result"
    }
   ],
   "source": [
    "nnInput_norm.shape"
   ]
  },
  {
   "cell_type": "code",
   "execution_count": 20,
   "metadata": {},
   "outputs": [
    {
     "data": {
      "text/plain": [
       "(60, 7947264)"
      ]
     },
     "execution_count": 20,
     "metadata": {},
     "output_type": "execute_result"
    }
   ],
   "source": [
    "spTarget.shape"
   ]
  },
  {
   "cell_type": "code",
   "execution_count": 22,
   "metadata": {},
   "outputs": [
    {
     "data": {
      "text/plain": [
       "(6357811, 215)"
      ]
     },
     "execution_count": 22,
     "metadata": {},
     "output_type": "execute_result"
    }
   ],
   "source": [
    "train.shape"
   ]
  },
  {
   "cell_type": "code",
   "execution_count": 23,
   "metadata": {},
   "outputs": [
    {
     "data": {
      "text/plain": [
       "(1589453, 215)"
      ]
     },
     "execution_count": 23,
     "metadata": {},
     "output_type": "execute_result"
    }
   ],
   "source": [
    "test.shape"
   ]
  },
  {
   "cell_type": "code",
   "execution_count": 24,
   "metadata": {},
   "outputs": [
    {
     "data": {
      "text/plain": [
       "False"
      ]
     },
     "execution_count": 24,
     "metadata": {},
     "output_type": "execute_result"
    }
   ],
   "source": [
    "trainInput = train[:,0:nnInput.shape[0]]\n",
    "trainOutput = train[:,nnInput.shape[0]:len(train)]\n",
    "testInput = test[:,0:nnInput.shape[0]]\n",
    "testOutput = test[:,nnInput.shape[0]:len(test)]\n",
    "\n",
    "#sanity check\n",
    "len(train)==len(test)"
   ]
  },
  {
   "cell_type": "code",
   "execution_count": 25,
   "metadata": {},
   "outputs": [
    {
     "data": {
      "text/plain": [
       "(6357811, 155)"
      ]
     },
     "execution_count": 25,
     "metadata": {},
     "output_type": "execute_result"
    }
   ],
   "source": [
    "trainInput.shape"
   ]
  },
  {
   "cell_type": "code",
   "execution_count": 26,
   "metadata": {},
   "outputs": [
    {
     "data": {
      "text/plain": [
       "(6357811, 60)"
      ]
     },
     "execution_count": 26,
     "metadata": {},
     "output_type": "execute_result"
    }
   ],
   "source": [
    "trainOutput.shape"
   ]
  },
  {
   "cell_type": "code",
   "execution_count": 27,
   "metadata": {},
   "outputs": [
    {
     "data": {
      "text/plain": [
       "(1589453, 155)"
      ]
     },
     "execution_count": 27,
     "metadata": {},
     "output_type": "execute_result"
    }
   ],
   "source": [
    "testInput.shape"
   ]
  },
  {
   "cell_type": "code",
   "execution_count": 28,
   "metadata": {},
   "outputs": [
    {
     "data": {
      "text/plain": [
       "(1589453, 60)"
      ]
     },
     "execution_count": 28,
     "metadata": {},
     "output_type": "execute_result"
    }
   ],
   "source": [
    "testOutput.shape"
   ]
  },
  {
   "cell_type": "code",
   "execution_count": 29,
   "metadata": {},
   "outputs": [],
   "source": [
    "with open('trainInput.npy', 'wb') as f:\n",
    "    np.save(f, trainInput)\n",
    "with open('trainOutput.npy', 'wb') as f:\n",
    "    np.save(f, trainOutput)\n",
    "with open('testInput.npy', 'wb') as f:\n",
    "    np.save(f, testInput)\n",
    "with open('testOutput.npy', 'wb') as f:\n",
    "    np.save(f, testOutput)"
   ]
  },
  {
   "cell_type": "code",
   "execution_count": 30,
   "metadata": {},
   "outputs": [],
   "source": [
    "with open('smalltrainInput.npy', 'wb') as f:\n",
    "    np.save(f, trainInput[:,0:100000])\n",
    "with open('smalltrainOutput.npy', 'wb') as f:\n",
    "    np.save(f, trainOutput[:,0:100000])\n",
    "with open('smalltestInput.npy', 'wb') as f:\n",
    "    np.save(f, testInput[:,0:100000])\n",
    "with open('smalltestOutput.npy', 'wb') as f:\n",
    "    np.save(f, testOutput[:,0:100000])"
   ]
  },
  {
   "cell_type": "code",
   "execution_count": 99,
   "metadata": {},
   "outputs": [],
   "source": [
    "#model = Sequential()\n",
    "#model.add(Dense(186, input_dim=155, kernel_initializer='normal', activation='relu'))\n",
    "#model.add(Dense(217, kernel_initializer='normal', activation='relu'))\n",
    "#model.add(Dense(248, kernel_initializer='normal', activation='relu'))\n",
    "#model.add(Dense(201, kernel_initializer='normal', activation='relu'))\n",
    "#model.add(Dense(154, kernel_initializer='normal', activation='relu'))\n",
    "#model.add(Dense(107, kernel_initializer='normal', activation='relu'))\n",
    "#model.add(Dense(60, activation='linear'))\n",
    "\n"
   ]
  },
  {
   "cell_type": "code",
   "execution_count": 100,
   "metadata": {},
   "outputs": [],
   "source": [
    "#model.compile(optimizer='adam', loss='mse')"
   ]
  },
  {
   "cell_type": "code",
   "execution_count": 101,
   "metadata": {},
   "outputs": [],
   "source": [
    "#trainFit = model.fit(trainInput, trainOutput, batch_size=1563, epochs=100)"
   ]
  }
 ],
 "metadata": {
  "kernelspec": {
   "display_name": "Python 3",
   "language": "python",
   "name": "python3"
  },
  "language_info": {
   "codemirror_mode": {
    "name": "ipython",
    "version": 3
   },
   "file_extension": ".py",
   "mimetype": "text/x-python",
   "name": "python",
   "nbconvert_exporter": "python",
   "pygments_lexer": "ipython3",
   "version": "3.7.3"
  }
 },
 "nbformat": 4,
 "nbformat_minor": 4
}
