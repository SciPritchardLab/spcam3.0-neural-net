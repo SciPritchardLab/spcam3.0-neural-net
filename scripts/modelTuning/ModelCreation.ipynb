{
 "cells": [
  {
   "cell_type": "markdown",
   "metadata": {},
   "source": [
    "# Importing relevant packages"
   ]
  },
  {
   "cell_type": "code",
   "execution_count": 1,
   "metadata": {},
   "outputs": [
    {
     "name": "stderr",
     "output_type": "stream",
     "text": [
      "/home/jlin96/miniconda3/envs/GPU/lib/python3.7/site-packages/dask/config.py:168: YAMLLoadWarning: calling yaml.load() without Loader=... is deprecated, as the default Loader is unsafe. Please read https://msg.pyyaml.org/load for full details.\n",
      "  data = yaml.load(f.read()) or {}\n",
      "/home/jlin96/miniconda3/envs/GPU/lib/python3.7/site-packages/tensorflow/python/framework/dtypes.py:516: FutureWarning: Passing (type, 1) or '1type' as a synonym of type is deprecated; in a future version of numpy, it will be understood as (type, (1,)) / '(1,)type'.\n",
      "  _np_qint8 = np.dtype([(\"qint8\", np.int8, 1)])\n",
      "/home/jlin96/miniconda3/envs/GPU/lib/python3.7/site-packages/tensorflow/python/framework/dtypes.py:517: FutureWarning: Passing (type, 1) or '1type' as a synonym of type is deprecated; in a future version of numpy, it will be understood as (type, (1,)) / '(1,)type'.\n",
      "  _np_quint8 = np.dtype([(\"quint8\", np.uint8, 1)])\n",
      "/home/jlin96/miniconda3/envs/GPU/lib/python3.7/site-packages/tensorflow/python/framework/dtypes.py:518: FutureWarning: Passing (type, 1) or '1type' as a synonym of type is deprecated; in a future version of numpy, it will be understood as (type, (1,)) / '(1,)type'.\n",
      "  _np_qint16 = np.dtype([(\"qint16\", np.int16, 1)])\n",
      "/home/jlin96/miniconda3/envs/GPU/lib/python3.7/site-packages/tensorflow/python/framework/dtypes.py:519: FutureWarning: Passing (type, 1) or '1type' as a synonym of type is deprecated; in a future version of numpy, it will be understood as (type, (1,)) / '(1,)type'.\n",
      "  _np_quint16 = np.dtype([(\"quint16\", np.uint16, 1)])\n",
      "/home/jlin96/miniconda3/envs/GPU/lib/python3.7/site-packages/tensorflow/python/framework/dtypes.py:520: FutureWarning: Passing (type, 1) or '1type' as a synonym of type is deprecated; in a future version of numpy, it will be understood as (type, (1,)) / '(1,)type'.\n",
      "  _np_qint32 = np.dtype([(\"qint32\", np.int32, 1)])\n",
      "/home/jlin96/miniconda3/envs/GPU/lib/python3.7/site-packages/tensorflow/python/framework/dtypes.py:525: FutureWarning: Passing (type, 1) or '1type' as a synonym of type is deprecated; in a future version of numpy, it will be understood as (type, (1,)) / '(1,)type'.\n",
      "  np_resource = np.dtype([(\"resource\", np.ubyte, 1)])\n",
      "/home/jlin96/miniconda3/envs/GPU/lib/python3.7/site-packages/tensorboard/compat/tensorflow_stub/dtypes.py:541: FutureWarning: Passing (type, 1) or '1type' as a synonym of type is deprecated; in a future version of numpy, it will be understood as (type, (1,)) / '(1,)type'.\n",
      "  _np_qint8 = np.dtype([(\"qint8\", np.int8, 1)])\n",
      "/home/jlin96/miniconda3/envs/GPU/lib/python3.7/site-packages/tensorboard/compat/tensorflow_stub/dtypes.py:542: FutureWarning: Passing (type, 1) or '1type' as a synonym of type is deprecated; in a future version of numpy, it will be understood as (type, (1,)) / '(1,)type'.\n",
      "  _np_quint8 = np.dtype([(\"quint8\", np.uint8, 1)])\n",
      "/home/jlin96/miniconda3/envs/GPU/lib/python3.7/site-packages/tensorboard/compat/tensorflow_stub/dtypes.py:543: FutureWarning: Passing (type, 1) or '1type' as a synonym of type is deprecated; in a future version of numpy, it will be understood as (type, (1,)) / '(1,)type'.\n",
      "  _np_qint16 = np.dtype([(\"qint16\", np.int16, 1)])\n",
      "/home/jlin96/miniconda3/envs/GPU/lib/python3.7/site-packages/tensorboard/compat/tensorflow_stub/dtypes.py:544: FutureWarning: Passing (type, 1) or '1type' as a synonym of type is deprecated; in a future version of numpy, it will be understood as (type, (1,)) / '(1,)type'.\n",
      "  _np_quint16 = np.dtype([(\"quint16\", np.uint16, 1)])\n",
      "/home/jlin96/miniconda3/envs/GPU/lib/python3.7/site-packages/tensorboard/compat/tensorflow_stub/dtypes.py:545: FutureWarning: Passing (type, 1) or '1type' as a synonym of type is deprecated; in a future version of numpy, it will be understood as (type, (1,)) / '(1,)type'.\n",
      "  _np_qint32 = np.dtype([(\"qint32\", np.int32, 1)])\n",
      "/home/jlin96/miniconda3/envs/GPU/lib/python3.7/site-packages/tensorboard/compat/tensorflow_stub/dtypes.py:550: FutureWarning: Passing (type, 1) or '1type' as a synonym of type is deprecated; in a future version of numpy, it will be understood as (type, (1,)) / '(1,)type'.\n",
      "  np_resource = np.dtype([(\"resource\", np.ubyte, 1)])\n",
      "Using TensorFlow backend.\n"
     ]
    }
   ],
   "source": [
    "import xarray as xr\n",
    "import numpy as np\n",
    "import pandas as pd\n",
    "from tensorflow import keras\n",
    "from keras.models import Sequential\n",
    "from keras.layers import Dense\n",
    "from keras.optimizers import SGD\n",
    "import matplotlib.pyplot as plt\n",
    "import os\n",
    "import h5py"
   ]
  },
  {
   "cell_type": "markdown",
   "metadata": {},
   "source": [
    "# Reading in data"
   ]
  },
  {
   "cell_type": "code",
   "execution_count": 2,
   "metadata": {},
   "outputs": [],
   "source": [
    "#Change jobNum before moving on to next cell\n",
    "jobNum = 5611942\n",
    "user = 'jlin96'"
   ]
  },
  {
   "cell_type": "code",
   "execution_count": 7,
   "metadata": {},
   "outputs": [],
   "source": [
    "path = '/scratch/' + user + '/job_' + str(jobNum) + '/'\n",
    "    \n",
    "with open(path + 'trainInput.npy', 'rb') as f:\n",
    "    trainInput = np.load(f)\n",
    "    \n",
    "with open(path + 'trainOutput.npy', 'rb') as f:\n",
    "    trainOutput = np.load(f)    \n",
    "\n",
    "with open(path + 'testInput.npy', 'rb') as f:\n",
    "    testInput = np.load(f)\n",
    "\n",
    "with open(path + 'testOutput.npy', 'rb') as f:\n",
    "    testOutput = np.load(f)\n",
    "    \n",
    "with open(path + 'normConst.npy', 'rb') as f:\n",
    "    normConst = np.load(f)\n",
    "    \n",
    "with open(path + 'levs.npy', 'rb') as f:\n",
    "    levs = np.load(f)\n",
    "    \n",
    "pressures = levs\n",
    "\n",
    "mu = normConst[:,0]\n",
    "std = normConst[:,3]"
   ]
  },
  {
   "cell_type": "markdown",
   "metadata": {},
   "source": [
    "# Creating model"
   ]
  },
  {
   "cell_type": "code",
   "execution_count": 7,
   "metadata": {},
   "outputs": [
    {
     "name": "stderr",
     "output_type": "stream",
     "text": [
      "WARNING: Logging before flag parsing goes to stderr.\n",
      "W0902 14:20:47.003688 23456247883584 deprecation_wrapper.py:119] From /home/jlin96/miniconda3/envs/GPU/lib/python3.7/site-packages/keras/backend/tensorflow_backend.py:74: The name tf.get_default_graph is deprecated. Please use tf.compat.v1.get_default_graph instead.\n",
      "\n",
      "W0902 14:20:47.016439 23456247883584 deprecation_wrapper.py:119] From /home/jlin96/miniconda3/envs/GPU/lib/python3.7/site-packages/keras/backend/tensorflow_backend.py:517: The name tf.placeholder is deprecated. Please use tf.compat.v1.placeholder instead.\n",
      "\n",
      "W0902 14:20:47.019683 23456247883584 deprecation_wrapper.py:119] From /home/jlin96/miniconda3/envs/GPU/lib/python3.7/site-packages/keras/backend/tensorflow_backend.py:4115: The name tf.random_normal is deprecated. Please use tf.random.normal instead.\n",
      "\n",
      "W0902 14:20:47.065041 23456247883584 deprecation_wrapper.py:119] From /home/jlin96/miniconda3/envs/GPU/lib/python3.7/site-packages/keras/backend/tensorflow_backend.py:4138: The name tf.random_uniform is deprecated. Please use tf.random.uniform instead.\n",
      "\n"
     ]
    }
   ],
   "source": [
    "model = Sequential()\n",
    "model.add(Dense(186, input_dim=155, kernel_initializer='normal', activation='relu'))\n",
    "model.add(Dense(217, kernel_initializer='normal', activation='relu'))\n",
    "model.add(Dense(248, kernel_initializer='normal', activation='relu'))\n",
    "model.add(Dense(201, kernel_initializer='normal', activation='relu'))\n",
    "model.add(Dense(154, kernel_initializer='normal', activation='relu'))\n",
    "model.add(Dense(107, kernel_initializer='normal', activation='relu'))\n",
    "model.add(Dense(60, activation='linear'))"
   ]
  },
  {
   "cell_type": "code",
   "execution_count": 8,
   "metadata": {},
   "outputs": [
    {
     "name": "stderr",
     "output_type": "stream",
     "text": [
      "W0902 14:20:47.128043 23456247883584 deprecation_wrapper.py:119] From /home/jlin96/miniconda3/envs/GPU/lib/python3.7/site-packages/keras/optimizers.py:790: The name tf.train.Optimizer is deprecated. Please use tf.compat.v1.train.Optimizer instead.\n",
      "\n"
     ]
    },
    {
     "data": {
      "text/plain": [
       "<tf.Tensor 'Assign:0' shape=() dtype=float32_ref>"
      ]
     },
     "execution_count": 8,
     "metadata": {},
     "output_type": "execute_result"
    }
   ],
   "source": [
    "new_lr = 0.02\n",
    "model.compile(optimizer = 'adam', loss = 'mse')\n",
    "model.optimizer.lr.assign(new_lr)"
   ]
  },
  {
   "cell_type": "markdown",
   "metadata": {},
   "source": [
    "# Training the model"
   ]
  },
  {
   "cell_type": "code",
   "execution_count": 9,
   "metadata": {},
   "outputs": [
    {
     "name": "stderr",
     "output_type": "stream",
     "text": [
      "W0902 14:20:47.276223 23456247883584 deprecation_wrapper.py:119] From /home/jlin96/miniconda3/envs/GPU/lib/python3.7/site-packages/keras/backend/tensorflow_backend.py:986: The name tf.assign_add is deprecated. Please use tf.compat.v1.assign_add instead.\n",
      "\n"
     ]
    },
    {
     "name": "stdout",
     "output_type": "stream",
     "text": [
      "Train on 5086248 samples, validate on 1271563 samples\n",
      "Epoch 1/100\n",
      "5086248/5086248 [==============================] - 12s 2us/step - loss: 0.0137 - val_loss: 0.0119\n",
      "Epoch 2/100\n",
      "5086248/5086248 [==============================] - 10s 2us/step - loss: 0.0112 - val_loss: 0.0105\n",
      "Epoch 3/100\n",
      "5086248/5086248 [==============================] - 10s 2us/step - loss: 0.0102 - val_loss: 0.0099\n",
      "Epoch 4/100\n",
      "5086248/5086248 [==============================] - 11s 2us/step - loss: 0.0094 - val_loss: 0.0093\n",
      "Epoch 5/100\n",
      "5086248/5086248 [==============================] - 10s 2us/step - loss: 0.0089 - val_loss: 0.0090\n",
      "Epoch 6/100\n",
      "5086248/5086248 [==============================] - 10s 2us/step - loss: 0.0085 - val_loss: 0.0085\n",
      "Epoch 7/100\n",
      "5086248/5086248 [==============================] - 10s 2us/step - loss: 0.0082 - val_loss: 0.0083\n",
      "Epoch 8/100\n",
      "5086248/5086248 [==============================] - 10s 2us/step - loss: 0.0079 - val_loss: 0.0081\n",
      "Epoch 9/100\n",
      "5086248/5086248 [==============================] - 10s 2us/step - loss: 0.0077 - val_loss: 0.0078\n",
      "Epoch 10/100\n",
      "5086248/5086248 [==============================] - 10s 2us/step - loss: 0.0076 - val_loss: 0.0078\n",
      "Epoch 11/100\n",
      "5086248/5086248 [==============================] - 10s 2us/step - loss: 0.0074 - val_loss: 0.0075\n",
      "Epoch 12/100\n",
      "5086248/5086248 [==============================] - 10s 2us/step - loss: 0.0073 - val_loss: 0.0074\n",
      "Epoch 13/100\n",
      "5086248/5086248 [==============================] - 10s 2us/step - loss: 0.0072 - val_loss: 0.0073\n",
      "Epoch 14/100\n",
      "5086248/5086248 [==============================] - 10s 2us/step - loss: 0.0070 - val_loss: 0.0072\n",
      "Epoch 15/100\n",
      "5086248/5086248 [==============================] - 10s 2us/step - loss: 0.0069 - val_loss: 0.0071\n",
      "Epoch 16/100\n",
      "5086248/5086248 [==============================] - 10s 2us/step - loss: 0.0069 - val_loss: 0.0070\n",
      "Epoch 17/100\n",
      "5086248/5086248 [==============================] - 10s 2us/step - loss: 0.0068 - val_loss: 0.0070\n",
      "Epoch 18/100\n",
      "5086248/5086248 [==============================] - 10s 2us/step - loss: 0.0067 - val_loss: 0.0070\n",
      "Epoch 19/100\n",
      "5086248/5086248 [==============================] - 10s 2us/step - loss: 0.0066 - val_loss: 0.0070\n",
      "Epoch 20/100\n",
      "5086248/5086248 [==============================] - 10s 2us/step - loss: 0.0066 - val_loss: 0.0068\n",
      "Epoch 21/100\n",
      "5086248/5086248 [==============================] - 10s 2us/step - loss: 0.0065 - val_loss: 0.0067\n",
      "Epoch 22/100\n",
      "5086248/5086248 [==============================] - 10s 2us/step - loss: 0.0065 - val_loss: 0.0068\n",
      "Epoch 23/100\n",
      "5086248/5086248 [==============================] - 10s 2us/step - loss: 0.0064 - val_loss: 0.0067\n",
      "Epoch 24/100\n",
      "5086248/5086248 [==============================] - 10s 2us/step - loss: 0.0064 - val_loss: 0.0066\n",
      "Epoch 25/100\n",
      "5086248/5086248 [==============================] - 10s 2us/step - loss: 0.0063 - val_loss: 0.0066\n",
      "Epoch 26/100\n",
      "5086248/5086248 [==============================] - 10s 2us/step - loss: 0.0063 - val_loss: 0.0066\n",
      "Epoch 27/100\n",
      "5086248/5086248 [==============================] - 10s 2us/step - loss: 0.0063 - val_loss: 0.0065\n",
      "Epoch 28/100\n",
      "5086248/5086248 [==============================] - 10s 2us/step - loss: 0.0062 - val_loss: 0.0064\n",
      "Epoch 29/100\n",
      "5086248/5086248 [==============================] - 10s 2us/step - loss: 0.0062 - val_loss: 0.0065\n",
      "Epoch 30/100\n",
      "5086248/5086248 [==============================] - 10s 2us/step - loss: 0.0062 - val_loss: 0.0065\n",
      "Epoch 31/100\n",
      "5086248/5086248 [==============================] - 10s 2us/step - loss: 0.0061 - val_loss: 0.0064\n",
      "Epoch 32/100\n",
      "5086248/5086248 [==============================] - 10s 2us/step - loss: 0.0061 - val_loss: 0.0064\n",
      "Epoch 33/100\n",
      "5086248/5086248 [==============================] - 10s 2us/step - loss: 0.0061 - val_loss: 0.0063\n",
      "Epoch 34/100\n",
      "5086248/5086248 [==============================] - 10s 2us/step - loss: 0.0060 - val_loss: 0.0063\n",
      "Epoch 35/100\n",
      "5086248/5086248 [==============================] - 10s 2us/step - loss: 0.0060 - val_loss: 0.0064\n",
      "Epoch 36/100\n",
      "5086248/5086248 [==============================] - 10s 2us/step - loss: 0.0060 - val_loss: 0.0062\n",
      "Epoch 37/100\n",
      "5086248/5086248 [==============================] - 10s 2us/step - loss: 0.0060 - val_loss: 0.0063\n",
      "Epoch 38/100\n",
      "5086248/5086248 [==============================] - 10s 2us/step - loss: 0.0059 - val_loss: 0.0063\n",
      "Epoch 39/100\n",
      "5086248/5086248 [==============================] - 10s 2us/step - loss: 0.0059 - val_loss: 0.0062\n",
      "Epoch 40/100\n",
      "5086248/5086248 [==============================] - 10s 2us/step - loss: 0.0059 - val_loss: 0.0061\n",
      "Epoch 41/100\n",
      "5086248/5086248 [==============================] - 10s 2us/step - loss: 0.0059 - val_loss: 0.0062\n",
      "Epoch 42/100\n",
      "5086248/5086248 [==============================] - 10s 2us/step - loss: 0.0059 - val_loss: 0.0062\n",
      "Epoch 43/100\n",
      "5086248/5086248 [==============================] - 10s 2us/step - loss: 0.0058 - val_loss: 0.0061\n",
      "Epoch 44/100\n",
      "5086248/5086248 [==============================] - 10s 2us/step - loss: 0.0058 - val_loss: 0.0062\n",
      "Epoch 45/100\n",
      "5086248/5086248 [==============================] - 10s 2us/step - loss: 0.0058 - val_loss: 0.0061\n",
      "Epoch 46/100\n",
      "5086248/5086248 [==============================] - 10s 2us/step - loss: 0.0058 - val_loss: 0.0060\n",
      "Epoch 47/100\n",
      "5086248/5086248 [==============================] - 10s 2us/step - loss: 0.0058 - val_loss: 0.0061\n",
      "Epoch 48/100\n",
      "5086248/5086248 [==============================] - 10s 2us/step - loss: 0.0058 - val_loss: 0.0060\n",
      "Epoch 49/100\n",
      "5086248/5086248 [==============================] - 10s 2us/step - loss: 0.0057 - val_loss: 0.0060\n",
      "Epoch 50/100\n",
      "5086248/5086248 [==============================] - 10s 2us/step - loss: 0.0057 - val_loss: 0.0059\n",
      "Epoch 51/100\n",
      "5086248/5086248 [==============================] - 10s 2us/step - loss: 0.0057 - val_loss: 0.0060\n",
      "Epoch 52/100\n",
      "5086248/5086248 [==============================] - 10s 2us/step - loss: 0.0057 - val_loss: 0.0060\n",
      "Epoch 53/100\n",
      "5086248/5086248 [==============================] - 10s 2us/step - loss: 0.0057 - val_loss: 0.0060\n",
      "Epoch 54/100\n",
      "5086248/5086248 [==============================] - 10s 2us/step - loss: 0.0057 - val_loss: 0.0059\n",
      "Epoch 55/100\n",
      "5086248/5086248 [==============================] - 10s 2us/step - loss: 0.0056 - val_loss: 0.0060\n",
      "Epoch 56/100\n",
      "5086248/5086248 [==============================] - 10s 2us/step - loss: 0.0056 - val_loss: 0.0059\n",
      "Epoch 57/100\n",
      "5086248/5086248 [==============================] - 10s 2us/step - loss: 0.0056 - val_loss: 0.0060\n",
      "Epoch 58/100\n",
      "5086248/5086248 [==============================] - 10s 2us/step - loss: 0.0056 - val_loss: 0.0059\n",
      "Epoch 59/100\n",
      "5086248/5086248 [==============================] - 10s 2us/step - loss: 0.0056 - val_loss: 0.0059\n",
      "Epoch 60/100\n",
      "5086248/5086248 [==============================] - 10s 2us/step - loss: 0.0056 - val_loss: 0.0060\n",
      "Epoch 61/100\n",
      "5086248/5086248 [==============================] - 10s 2us/step - loss: 0.0056 - val_loss: 0.0059\n",
      "Epoch 62/100\n",
      "5086248/5086248 [==============================] - 10s 2us/step - loss: 0.0056 - val_loss: 0.0059\n",
      "Epoch 63/100\n",
      "5086248/5086248 [==============================] - 10s 2us/step - loss: 0.0056 - val_loss: 0.0058\n",
      "Epoch 64/100\n",
      "5086248/5086248 [==============================] - 10s 2us/step - loss: 0.0055 - val_loss: 0.0059\n",
      "Epoch 65/100\n",
      "5086248/5086248 [==============================] - 10s 2us/step - loss: 0.0055 - val_loss: 0.0058\n",
      "Epoch 66/100\n",
      "5086248/5086248 [==============================] - 10s 2us/step - loss: 0.0055 - val_loss: 0.0058\n",
      "Epoch 67/100\n",
      "5086248/5086248 [==============================] - 10s 2us/step - loss: 0.0055 - val_loss: 0.0058\n",
      "Epoch 68/100\n",
      "5086248/5086248 [==============================] - 10s 2us/step - loss: 0.0055 - val_loss: 0.0059\n",
      "Epoch 69/100\n",
      "5086248/5086248 [==============================] - 10s 2us/step - loss: 0.0055 - val_loss: 0.0058\n",
      "Epoch 70/100\n",
      "5086248/5086248 [==============================] - 10s 2us/step - loss: 0.0055 - val_loss: 0.0058\n",
      "Epoch 71/100\n",
      "5086248/5086248 [==============================] - 10s 2us/step - loss: 0.0055 - val_loss: 0.0058\n",
      "Epoch 72/100\n",
      "5086248/5086248 [==============================] - 10s 2us/step - loss: 0.0055 - val_loss: 0.0058\n",
      "Epoch 73/100\n",
      "5086248/5086248 [==============================] - 10s 2us/step - loss: 0.0055 - val_loss: 0.0058\n",
      "Epoch 74/100\n",
      "5086248/5086248 [==============================] - 10s 2us/step - loss: 0.0054 - val_loss: 0.0058\n",
      "Epoch 75/100\n",
      "5086248/5086248 [==============================] - 10s 2us/step - loss: 0.0054 - val_loss: 0.0057\n",
      "Epoch 76/100\n",
      "5086248/5086248 [==============================] - 10s 2us/step - loss: 0.0054 - val_loss: 0.0058\n",
      "Epoch 77/100\n",
      "5086248/5086248 [==============================] - 10s 2us/step - loss: 0.0054 - val_loss: 0.0058\n",
      "Epoch 78/100\n",
      "5086248/5086248 [==============================] - 10s 2us/step - loss: 0.0055 - val_loss: 0.0057\n",
      "Epoch 79/100\n",
      "5086248/5086248 [==============================] - 10s 2us/step - loss: 0.0054 - val_loss: 0.0058\n",
      "Epoch 80/100\n",
      "5086248/5086248 [==============================] - 10s 2us/step - loss: 0.0054 - val_loss: 0.0058\n",
      "Epoch 81/100\n",
      "5086248/5086248 [==============================] - 10s 2us/step - loss: 0.0054 - val_loss: 0.0060\n",
      "Epoch 82/100\n",
      "5086248/5086248 [==============================] - 10s 2us/step - loss: 0.0054 - val_loss: 0.0058\n",
      "Epoch 83/100\n",
      "5086248/5086248 [==============================] - 10s 2us/step - loss: 0.0054 - val_loss: 0.0057\n",
      "Epoch 84/100\n",
      "5086248/5086248 [==============================] - 10s 2us/step - loss: 0.0054 - val_loss: 0.0057\n",
      "Epoch 85/100\n",
      "5086248/5086248 [==============================] - 10s 2us/step - loss: 0.0054 - val_loss: 0.0057\n",
      "Epoch 86/100\n",
      "5086248/5086248 [==============================] - 10s 2us/step - loss: 0.0053 - val_loss: 0.0057\n",
      "Epoch 87/100\n",
      "5086248/5086248 [==============================] - 10s 2us/step - loss: 0.0053 - val_loss: 0.0056\n",
      "Epoch 88/100\n",
      "5086248/5086248 [==============================] - 10s 2us/step - loss: 0.0053 - val_loss: 0.0057\n",
      "Epoch 89/100\n",
      "5086248/5086248 [==============================] - 10s 2us/step - loss: 0.0053 - val_loss: 0.0057\n",
      "Epoch 90/100\n",
      "5086248/5086248 [==============================] - 10s 2us/step - loss: 0.0053 - val_loss: 0.0057\n",
      "Epoch 91/100\n",
      "5086248/5086248 [==============================] - 10s 2us/step - loss: 0.0053 - val_loss: 0.0056\n",
      "Epoch 92/100\n",
      "5086248/5086248 [==============================] - 10s 2us/step - loss: 0.0053 - val_loss: 0.0057\n",
      "Epoch 93/100\n",
      "5086248/5086248 [==============================] - 10s 2us/step - loss: 0.0053 - val_loss: 0.0057\n",
      "Epoch 94/100\n",
      "5086248/5086248 [==============================] - 10s 2us/step - loss: 0.0053 - val_loss: 0.0056\n",
      "Epoch 95/100\n",
      "5086248/5086248 [==============================] - 10s 2us/step - loss: 0.0053 - val_loss: 0.0056\n",
      "Epoch 96/100\n",
      "5086248/5086248 [==============================] - 10s 2us/step - loss: 0.0053 - val_loss: 0.0056\n",
      "Epoch 97/100\n",
      "5086248/5086248 [==============================] - 10s 2us/step - loss: 0.0053 - val_loss: 0.0057\n",
      "Epoch 98/100\n",
      "5086248/5086248 [==============================] - 10s 2us/step - loss: 0.0053 - val_loss: 0.0056\n",
      "Epoch 99/100\n",
      "5086248/5086248 [==============================] - 10s 2us/step - loss: 0.0053 - val_loss: 0.0056\n",
      "Epoch 100/100\n",
      "5086248/5086248 [==============================] - 10s 2us/step - loss: 0.0053 - val_loss: 0.0056\n"
     ]
    }
   ],
   "source": [
    "trainFit = model.fit(trainInput, trainOutput, validation_split = .2, batch_size = 4000, epochs = 100)"
   ]
  },
  {
   "cell_type": "code",
   "execution_count": 10,
   "metadata": {},
   "outputs": [
    {
     "data": {
      "text/plain": [
       "[<matplotlib.lines.Line2D at 0x1551b98c24a8>]"
      ]
     },
     "execution_count": 10,
     "metadata": {},
     "output_type": "execute_result"
    },
    {
     "data": {
      "image/png": "[encoded data removed]",
      "text/plain": [
       "<Figure size 432x288 with 1 Axes>"
      ]
     },
     "metadata": {
      "needs_background": "light"
     },
     "output_type": "display_data"
    }
   ],
   "source": [
    "plt.plot(trainFit.history[\"loss\"])\n",
    "plt.plot(trainFit.history[\"val_loss\"])"
   ]
  },
  {
   "cell_type": "code",
   "execution_count": 13,
   "metadata": {},
   "outputs": [],
   "source": [
    "#Saving the model\n",
    "#model.save('redundancychecker.h5')"
   ]
  },
  {
   "cell_type": "markdown",
   "metadata": {},
   "source": [
    "# Plotting performance on test set"
   ]
  },
  {
   "cell_type": "code",
   "execution_count": 4,
   "metadata": {},
   "outputs": [
    {
     "name": "stderr",
     "output_type": "stream",
     "text": [
      "WARNING: Logging before flag parsing goes to stderr.\n",
      "W0902 14:49:23.172041 23456247883584 deprecation.py:506] From /home/jlin96/miniconda3/envs/GPU/lib/python3.7/site-packages/tensorflow/python/keras/initializers.py:143: calling RandomNormal.__init__ (from tensorflow.python.ops.init_ops) with dtype is deprecated and will be removed in a future version.\n",
      "Instructions for updating:\n",
      "Call initializer instance with the dtype argument instead of passing it to the constructor\n"
     ]
    }
   ],
   "source": [
    "# you can read in a prior model here:\n",
    "# model = keras.models.load_model(\"redundancychecker.h5\")"
   ]
  },
  {
   "cell_type": "code",
   "execution_count": 5,
   "metadata": {},
   "outputs": [],
   "source": [
    "#Creating predictions (takes a while to load)\n",
    "testPredictVec = np.array([model.predict(np.array([testInput[x]])) for x in range(len(testInput))])\n",
    "predictions = np.array([testPredictVec[x].flatten() for x in range(len(testPredictVec))])"
   ]
  },
  {
   "cell_type": "code",
   "execution_count": 8,
   "metadata": {},
   "outputs": [],
   "source": [
    "#Creating initial, prediction, and actual arrays\n",
    "\n",
    "#Temperature\n",
    "testInitialTempVec = [(testInput[x,0:30].flatten()*std[0:30] + mu[0:30])*1.00464e3 for x in range(len(testInput))]\n",
    "testInitialTempVec = np.array(testInitialTempVec)\n",
    "testPredictTempVec = predictions[:,0:30]\n",
    "testActualTempVec = testOutput[:,0:30]\n",
    "\n",
    "testInitialTempError = testInitialTempVec - testActualTempVec\n",
    "testPredictTempError = testPredictTempVec - testActualTempVec\n",
    "\n",
    "#Moisture\n",
    "testInitialMoistVec = [(testInput[x,30:60].flatten()*std[30:60] + mu[30:60])*2.501e6 for x in range(len(testInput))]\n",
    "testInitialMoistVec = np.array(testInitialMoistVec)\n",
    "testPredictMoistVec = predictions[:,30:60]\n",
    "testActualMoistVec = testOutput[:,30:60]\n",
    "\n",
    "testInitialMoistError = testInitialMoistVec - testActualMoistVec\n",
    "testPredictMoistError = testPredictMoistVec - testActualMoistVec"
   ]
  },
  {
   "cell_type": "code",
   "execution_count": 9,
   "metadata": {},
   "outputs": [],
   "source": [
    "# Creating 5th, 25th, 50th, and 75th percentile arrays for each elevation\n",
    "\n",
    "initTempPerc = [np.percentile(testInitialTempError[:,x], [5,25,50,75,95]) for x in range(testInitialTempError.shape[1])]\n",
    "initTempPerc = np.array(initTempPerc)\n",
    "\n",
    "predTempPerc = [np.percentile(testPredictTempError[:,x], [5,25,50,75,95]) for x in range(testPredictTempError.shape[1])]\n",
    "predTempPerc = np.array(predTempPerc)\n",
    "\n",
    "initMoistPerc = [np.percentile(testInitialMoistError[:,x], [5,25,50,75,95]) for x in range(testInitialMoistError.shape[1])]\n",
    "initMoistPerc = np.array(initMoistPerc)\n",
    "                         \n",
    "predMoistPerc = [np.percentile(testPredictMoistError[:,x], [5,25,50,75,95]) for x in range(testPredictMoistError.shape[1])]\n",
    "predMoistPerc = np.array(predMoistPerc)"
   ]
  },
  {
   "cell_type": "code",
   "execution_count": 10,
   "metadata": {},
   "outputs": [
    {
     "data": {
      "text/plain": [
       "Text(0.5, 1.0, 'Temperature')"
      ]
     },
     "execution_count": 10,
     "metadata": {},
     "output_type": "execute_result"
    },
    {
     "data": {
      "image/png": "[encoded data removed]",
      "text/plain": [
       "<Figure size 432x288 with 1 Axes>"
      ]
     },
     "metadata": {
      "needs_background": "light"
     },
     "output_type": "display_data"
    }
   ],
   "source": [
    "plt.plot(initTempPerc[:,0].flatten(), pressures, color = \"red\")\n",
    "plt.plot(initTempPerc[:,1].flatten(), pressures, color = \"red\")\n",
    "plt.plot(initTempPerc[:,2].flatten(), pressures, color = \"red\")\n",
    "plt.plot(initTempPerc[:,3].flatten(), pressures, color = \"red\")\n",
    "plt.plot(initTempPerc[:,4].flatten(), pressures, color = \"red\")\n",
    "\n",
    "plt.plot(predTempPerc[:,0].flatten(), pressures, color = \"blue\")\n",
    "plt.plot(predTempPerc[:,1].flatten(), pressures, color = \"blue\")\n",
    "plt.plot(predTempPerc[:,2].flatten(), pressures, color = \"blue\")\n",
    "plt.plot(predTempPerc[:,3].flatten(), pressures, color = \"blue\")\n",
    "plt.plot(predTempPerc[:,4].flatten(), pressures, color = \"blue\")\n",
    "\n",
    "plt.gca().invert_yaxis()\n",
    "\n",
    "plt.title(\"Temperature\")"
   ]
  },
  {
   "cell_type": "code",
   "execution_count": 11,
   "metadata": {},
   "outputs": [
    {
     "data": {
      "text/plain": [
       "Text(0.5, 1.0, 'Moisture')"
      ]
     },
     "execution_count": 11,
     "metadata": {},
     "output_type": "execute_result"
    },
    {
     "data": {
      "image/png": "[encoded data removed]",
      "text/plain": [
       "<Figure size 432x288 with 1 Axes>"
      ]
     },
     "metadata": {
      "needs_background": "light"
     },
     "output_type": "display_data"
    }
   ],
   "source": [
    "plt.plot(initMoistPerc[:,0].flatten(), pressures, color = \"red\")\n",
    "plt.plot(initMoistPerc[:,1].flatten(), pressures, color = \"red\")\n",
    "plt.plot(initMoistPerc[:,2].flatten(), pressures, color = \"red\")\n",
    "plt.plot(initMoistPerc[:,3].flatten(), pressures, color = \"red\")\n",
    "plt.plot(initMoistPerc[:,4].flatten(), pressures, color = \"red\")\n",
    "\n",
    "plt.plot(predMoistPerc[:,0].flatten(), pressures, color = \"blue\")\n",
    "plt.plot(predMoistPerc[:,1].flatten(), pressures, color = \"blue\")\n",
    "plt.plot(predMoistPerc[:,2].flatten(), pressures, color = \"blue\")\n",
    "plt.plot(predMoistPerc[:,3].flatten(), pressures, color = \"blue\")\n",
    "plt.plot(predMoistPerc[:,4].flatten(), pressures, color = \"blue\")\n",
    "\n",
    "plt.gca().invert_yaxis()\n",
    "\n",
    "plt.title(\"Moisture\")"
   ]
  },
  {
   "cell_type": "code",
   "execution_count": null,
   "metadata": {},
   "outputs": [],
   "source": []
  }
 ],
 "metadata": {
  "kernelspec": {
   "display_name": "Python 3",
   "language": "python",
   "name": "python3"
  },
  "language_info": {
   "codemirror_mode": {
    "name": "ipython",
    "version": 3
   },
   "file_extension": ".py",
   "mimetype": "text/x-python",
   "name": "python",
   "nbconvert_exporter": "python",
   "pygments_lexer": "ipython3",
   "version": "3.7.3"
  }
 },
 "nbformat": 4,
 "nbformat_minor": 2
}
